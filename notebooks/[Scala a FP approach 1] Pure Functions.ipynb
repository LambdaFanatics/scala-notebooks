{
 "cells": [
  {
   "cell_type": "markdown",
   "metadata": {},
   "source": [
    "## Scala a functional programming approach 1: Pure functions\n",
    "\n",
    "\n",
    "#### Abstract\n",
    "This document is a efford to introduce the strengths and benefits of functional programming in scala.\n",
    "\n",
    "We do not claim intellectual property of all the material presented.\n",
    "We specifically refer to the original resources whenever is needed.\n",
    "\n",
    "The presentation path of the concepts is still under consideration and may be changed in future reviews.\n"
   ]
  },
  {
   "cell_type": "markdown",
   "metadata": {},
   "source": [
    "### Outline\n",
    "This notebooks covers:\n",
    "- Pure function basics.\n",
    "- Function composition.\n",
    "- Understanding side effects.\n",
    "- Refactoring effects.\n",
    "- Introduction of `Option` data type.\n",
    "- Basic introduction to scala syntax and semantics."
   ]
  },
  {
   "cell_type": "markdown",
   "metadata": {},
   "source": [
    "### Pure Functions\n",
    "_resource: [Scala IO 2013, Purely functional I/O in Scala, R.O. Bjarnason](http://blog.higher-order.com/assets/scalaio.pdf)_\n",
    "\n",
    "A pure function of type `A => B` takes an argument of type `A` and returns a value of type `B`. \n",
    "\n",
    "__And does nothing else__\n",
    "\n",
    "A pure function always returns the same value given the same arguments.\n",
    "\n",
    "A pure function has no dependencies other than its arguments.\n",
    "\n",
    "The result of calling a pure function can be understood completely by looking at the returned value.\n",
    "\n"
   ]
  },
  {
   "cell_type": "code",
   "execution_count": null,
   "metadata": {
    "collapsed": false
   },
   "outputs": [],
   "source": [
    "// This is how we define method in scala\n",
    "def inc(x: Int): Int = { x + 1 }\n",
    "\n",
    "//This is how we define an (anonymous) function\n",
    "(x: Int) => { x + 1 }\n",
    "\n",
    "//We can give a name to an anonymous function by assigning it to a variable\n",
    "val incAnon: Int => Int = (x: Int) => { x + 1 }\n",
    "\n",
    "// In scala methods are not exactly the same with functions\n",
    "// We can convert a method to a funciton via an `_`\n",
    "inc _\n",
    "\n",
    "def sample(f: Int => Int, x :Int): Int = {\n",
    "  f(x)\n",
    "}\n",
    "\n",
    "// For the purposes of this presentation we will ignore this technicality"
   ]
  },
  {
   "cell_type": "code",
   "execution_count": null,
   "metadata": {
    "collapsed": false
   },
   "outputs": [],
   "source": [
    "//Let's define some pure functions (methods)\n",
    "\n",
    "def inc(x: Int): Int = x + 1\n",
    "\n",
    "def double = (x: Int) => x * 2 // We can omit result type (= scala local type inference)\n",
    "\n",
    "def stringify (x: Int): String = x.toString()"
   ]
  },
  {
   "cell_type": "code",
   "execution_count": null,
   "metadata": {
    "collapsed": false
   },
   "outputs": [],
   "source": [
    "// The functions below are impure - why?\n",
    "def printInt(x: Int): Unit = { \n",
    "  println(x)\n",
    "} \n",
    "\n",
    "def divideTenBy(x: Double): Double = 10 / x  \n",
    " \n",
    "def allowOnlyPositive(x: Int):Int = if (x > 0) x else sys.error(\"only positive numbers\")"
   ]
  },
  {
   "cell_type": "markdown",
   "metadata": {},
   "source": [
    "We can call evaluate/execute without fear the pure functions but what about the impure ones?"
   ]
  },
  {
   "cell_type": "code",
   "execution_count": null,
   "metadata": {
    "collapsed": false
   },
   "outputs": [],
   "source": [
    "inc(1)\n",
    "double(2)\n",
    "stringify(2)\n",
    "\n",
    "//With impure functions but things happen\n",
    "divideTenBy(2)\n",
    "divideTenBy(0) // Not ok!"
   ]
  },
  {
   "cell_type": "markdown",
   "metadata": {},
   "source": [
    "Impure functions are not so cool...\n",
    "\n",
    "How would you test function __printInt__?\n",
    "\n",
    "The call of __divideTenBy(0)__ gives _infinity (???)_.\n",
    "\n",
    "Also the call of __allowOnlyPositive(0)__ causes a __RuntimeException__. "
   ]
  },
  {
   "cell_type": "code",
   "execution_count": null,
   "metadata": {
    "collapsed": false
   },
   "outputs": [],
   "source": [
    "allowOnlyPositive(-1) // Not ok!"
   ]
  },
  {
   "cell_type": "code",
   "execution_count": null,
   "metadata": {
    "collapsed": false
   },
   "outputs": [],
   "source": [
    "//((A => B), (B => C)) => (A => C) :: andThen  andThen((inc _),(allowOnlyPositive))\n",
    "\n",
    "// inc o double \n",
    "val incAfterDouble = (inc _).compose(double) // inc(double(x))\n",
    "\n",
    "def s2(x:Int) = inc(double(x)) \n",
    "s2(10)\n",
    "\n",
    "val incAndThenAllowOnlyPositive = inc _ andThen allowOnlyPositive \n",
    "\n",
    "incAfterDouble(10)\n",
    "// incAndThenAllowOnlyPositive(-2)"
   ]
  },
  {
   "cell_type": "markdown",
   "metadata": {},
   "source": [
    "#### Composability\n",
    "\n",
    "Impurity effects also the composition of functions. \n",
    "\n",
    "> Composing __pure functions__ results in  __a pure function__.\n",
    "\n",
    "> Composing __at least one impure function__  results in __an impure function__."
   ]
  },
  {
   "cell_type": "markdown",
   "metadata": {},
   "source": [
    "### Purity and real world\n",
    "\n",
    "So far so good, function purity is desired in programs, but the reality is devastating. All the programs that matter to us \"contain\" side effects. \n",
    "\n",
    "__So is this introduction all in vain?__\n",
    "\n",
    " __Purity matters even if the overall execution of our programs is impure.__ What we actually desire is to \n",
    "_separate_ the __impure parts__ of our programs from the __pure__ ones. That means that we write the _\"business logic\"_ or _\"logic\"_ of our program in pure functions and hand the results to impure functions to do the \"dirty work\".\n",
    "In our context the \"dirty work\" is _side effects_ of all kinds.\n",
    "\n",
    "#### Example: Refactoring effects.\n",
    "\n",
    "Resource: [Functional programming in scala: Chapter 13](https://www.amazon.com/Functional-Programming-Scala-Paul Chiusano/dp/1617290653/ref=sr_1_1?ie=UTF8&qid=1504870248&sr=8-1&keywords=functional+programming+in+scala)\n",
    " \n",
    "Consider fragment of code below which calculates the winner of a contest: "
   ]
  },
  {
   "cell_type": "code",
   "execution_count": null,
   "metadata": {
    "collapsed": false
   },
   "outputs": [],
   "source": [
    "// Program #1 \n",
    "// Decide the winner of a contest.\n",
    "case class Player(name: String, score: Int)\n",
    "\n",
    "def contest(p1: Player, p2: Player): Unit = {\n",
    "  if(p1.score > p2.score)\n",
    "    println(s\"${p1.name} wins!\")\n",
    "  else if(p2.score > p1.score)\n",
    "    println(s\"${p2.name} wins!\")\n",
    "  else\n",
    "    println(\"It is a draw!\")\n",
    "}\n",
    "\n",
    "// Who is the winner?\n",
    "val p1 = Player(\"fpas\", 10)\n",
    "val p2 = Player(\"gsmyrn\", 10)\n",
    "\n",
    "contest(p1,p2) "
   ]
  },
  {
   "cell_type": "markdown",
   "metadata": {},
   "source": [
    "We are done right? The program works and prints the correct results.\n",
    "\n",
    "This program, though simple, has some flows. One of them is that it cannot be tested (easily). \n",
    "This is because the the actual \"logic\" of computing the winner is interleaved with the mechanism of printing the result.\n",
    "\n",
    "Let's change this."
   ]
  },
  {
   "cell_type": "code",
   "execution_count": null,
   "metadata": {
    "collapsed": false
   },
   "outputs": [],
   "source": [
    "// Program #2\n",
    "// Split the logic from the effect.\n",
    "case class Player(name: String, score: Int)\n",
    "\n",
    "def computeWinner(p1: Player, p2: Player): Player = {\n",
    "  if(p1.score > p2.score) p1\n",
    "  else p2 \n",
    "}\n",
    "\n",
    "def displayWinner(p: Player): Unit = {\n",
    " println(s\"${p.name} wins!\")\n",
    "}\n",
    "\n",
    "//This is function composition\n",
    "def contest(p1: Player, p2: Player) = displayWinner(computeWinner(p1,p2))\n",
    "\n",
    "// Who is the winner?\n",
    "contest(Player(\"fpas\", 10), Player(\"gsmyrn\", 5)) "
   ]
  },
  {
   "cell_type": "markdown",
   "metadata": {},
   "source": [
    "With this simple refactor the contest function is a composition of two other functions. The first part is a __pure__ function containing the logic and the second part is an __impure__ function that dispays the results.\n",
    "The overall ```contest``` function is __impure__.\n",
    "\n",
    "> __Take away 1__\n",
    "\n",
    "> Given an impure function of type ```f: A => B``` we can split into to other functions.\n",
    "> - A __pure__ function of type ``` A => D```  where ```D``` __describes__ the result of ```f```.\n",
    "> - An __impure__ function of type ```D => B```, which __interprets__ ```D``` and executes the result.\n",
    "\n",
    "That is what we strive to do in functional programming. Describe all the operations of a program in __composed pure functions__ and __promote/push/delay__ the (side) __effects execution__ to the end of the \"chain\". "
   ]
  },
  {
   "cell_type": "markdown",
   "metadata": {},
   "source": [
    "The carefull reader, by now, will have discover an incosistency between ```Program 1``` and ```Program 2```. The wo programs are not equivalent.\n",
    "\n",
    "What happened to the draw case in ```Program 2```?\n",
    "This was intentional and the inconsistency is caused by the fact that our pure function ```computeWinner``` cannot handle the case of a draw. \n",
    "\n",
    "It cannot handle it because there is no obvious result of type ```Player``` to return in the case of scores equality."
   ]
  },
  {
   "cell_type": "markdown",
   "metadata": {},
   "source": [
    "#### A closer look at side effects.\n",
    "\n",
    "So a pure function such as `computeWinner` cannot handle with the cases where there is no winner.\n",
    "\n",
    "_This is natural because a pure function must define an output for each given input_. \n",
    "\n",
    "But in our case we want the function to handle cases of player pairs where there is no output (winner)."
   ]
  },
  {
   "cell_type": "code",
   "execution_count": null,
   "metadata": {
    "collapsed": false
   },
   "outputs": [],
   "source": [
    "// Program #3 \n",
    "// A better computeWinner\n",
    "\n",
    "def computeWinner(p1: Player, p2: Player): Player = {\n",
    "  if(p1.score > p2.score) p1\n",
    "  else if (p2.score > p1.score) p2\n",
    "  else null //null is a special value for this function that denotes that there is no winner.\n",
    "}"
   ]
  },
  {
   "cell_type": "markdown",
   "metadata": {},
   "source": [
    "Problem solved ! The function remains pure ( `null` is value of type `Player` ). Let's try it !"
   ]
  },
  {
   "cell_type": "code",
   "execution_count": null,
   "metadata": {
    "collapsed": false
   },
   "outputs": [],
   "source": [
    "//[Program 3 - continue\n",
    "\n",
    "def displayWinner(p: Player): Unit = {\n",
    " println(s\"${p.name} wins!\")\n",
    "}\n",
    "\n",
    "//This is function composition\n",
    "def contest(p1: Player, p2: Player) = displayWinner(computeWinner(p1,p2))\n",
    "\n",
    "\n",
    "// Who is the winner?\n",
    "contest(Player(\"fpas\", 10), Player(\"gsmyrn\", 10)) "
   ]
  },
  {
   "cell_type": "markdown",
   "metadata": {},
   "source": [
    "Not what we expected, a ```NullPointerException```. This happens because `displayWinner` must learn to handle `null` values of players.\n",
    "\n",
    "We can do that!\n",
    "\n",
    "_But wait, do we want to do that?_ Is there a __better way__?\n",
    "\n",
    "We don't want to handle null cases in our code like that. null leads to hidden side effects like exceptions.\n",
    "\n",
    "> We want the end user of the pure function `computeWinner` to have a good __description__ type for its result.\n",
    "\n",
    "So the correct question is: \n",
    "\n",
    "__Which data type is appropriate to describe the side effect of partial functions?__\n",
    "\n",
    "An alternative more functional approach to the \"partial function\" side effect problem is the `Option[A]` type.\n"
   ]
  },
  {
   "cell_type": "code",
   "execution_count": null,
   "metadata": {
    "collapsed": false
   },
   "outputs": [],
   "source": [
    "// Program #4\n",
    "// computeWinner with Option[A]\n",
    "case class Player(name: String, score: Int)\n",
    "\n",
    "def computeWinner(p1: Player, p2: Player): Option[Player] = {\n",
    "  if(p1.score > p2.score) Some(p1) //:Option[Player]\n",
    "  else if (p2.score > p1.score) Some(p2)\n",
    "  else None //: Option[Player]\n",
    "}\n",
    "\n",
    "\n",
    "def displayWinner(op: Option[Player]): Unit = {\n",
    "  if(op.isEmpty)  \n",
    "    println(s\"It's a draw\")\n",
    "  else \n",
    "    println(s\"${op.get.name} wins!\")\n",
    "}\n",
    "\n",
    "\n",
    "// This is the alternative with pattern matching\n",
    "\n",
    "// def displayWinner(p: Option[Player]): Unit = p match { //Pattern match instead of 'if' construct\n",
    "//  case Some(x) => println(s\"${x.name} wins!\")\n",
    "//  case None => println(s\"It's a draw\")\n",
    "// }\n",
    "\n",
    "//This is function composition\n",
    "def contest(p1: Player, p2: Player) = displayWinner(computeWinner(p1,p2))\n",
    "\n",
    "// Who is the winner? (handles draw)\n",
    "contest(Player(\"fpas\", 5), Player(\"gsmyrn\", 5)) "
   ]
  },
  {
   "cell_type": "markdown",
   "metadata": {},
   "source": [
    "`Program 4` implementation is real close to `Program 3` implementation which used `null`  in place of `None`.\n",
    "\n",
    "> The __key difference__ is that according to __Take away 1__ we realized that the pure function `f: A =>D` ( `computeWinner`) used a data type `D` (`Player`) that __was not expressive enough to describe the side effect of \"partial function\"__\n",
    "\n",
    "\n",
    "So we chose an \"embelised type\" to __describe__ the absense of return value at some cases. \n",
    "\n",
    "Note, that now every one that reads the signature\n",
    "\n",
    "```def computeWinner(p1: Player, p2: Player): Option[Player]```\n",
    "\n",
    "knows that the method does something that may or may not return a value. The side effect is described and is not hidden as in the case of `null` usage, or any other programming convention."
   ]
  },
  {
   "cell_type": "markdown",
   "metadata": {},
   "source": [
    "__Exercise 1__: Rewrite `contest` function using `andThen` composition function. \n",
    "\n",
    "_Hint use `Function1.curried` method_"
   ]
  },
  {
   "cell_type": "code",
   "execution_count": null,
   "metadata": {
    "collapsed": false
   },
   "outputs": [],
   "source": [
    "//This is function composition\n",
    "// def contest(p1: Player, p2: Player) = displayWinner(computeWinner(p1,p2))\n",
    "\n",
    "def contest(p1: Player, p2:Player) = ???\n",
    "contest(Player(\"fpas\", 5), Player(\"gsmyrn\", 5)) "
   ]
  },
  {
   "cell_type": "markdown",
   "metadata": {},
   "source": [
    "__Exercise 2__: There is a new requirement to CAPITALIZE the names of the winners. \n",
    "\n",
    "a) Create a new method that `capitalize` a player name.\n",
    "\n",
    "b) Compose in a functional way the new function into the program.\n",
    "\n",
    "_Hint use option  `map` method._"
   ]
  },
  {
   "cell_type": "code",
   "execution_count": null,
   "metadata": {
    "collapsed": false
   },
   "outputs": [],
   "source": [
    "// Exercise #2\n",
    "\n",
    "case class Player(name: String, score: Int)\n",
    "\n",
    "def computeWinner(p1: Player, p2: Player): Option[Player] = {\n",
    "  if(p1.score > p2.score) Some(p1)\n",
    "  else if (p2.score > p1.score) Some(p2)\n",
    "  else None\n",
    "}\n",
    "\n",
    "//Player => Player\n",
    "def capitalize(p: Player): Player = Player(p.name.toUpperCase, p.score)\n",
    "\n",
    "def displayWinner(p: Option[Player]): Unit = p match {\n",
    " case Some(p) => println(s\"${p.name} wins!\")\n",
    " case None => println(s\"It's a draw\")\n",
    "}\n",
    "  \n",
    "//This is function composition\n",
    "def contest(p1: Player, p2: Player): Unit  = displayWinner(computeWinner(p1,p2).map(capitalize)) \n",
    "   \n",
    "\n",
    "contest(Player(\"fpas\", 10), Player(\"gsmyrn\", 10)) "
   ]
  },
  {
   "cell_type": "markdown",
   "metadata": {},
   "source": [
    "__Exercise 3__: There is a new requirement\n",
    "\n",
    "If the winner of a contest has a negative or zero score, then the result should be 'a draw'.\n",
    "\n",
    "Implement a method that checks the winners score.\n",
    "\n",
    "_Hint use option `flatMap` method_\n"
   ]
  },
  {
   "cell_type": "code",
   "execution_count": null,
   "metadata": {
    "collapsed": false
   },
   "outputs": [],
   "source": [
    "// Exercise 3\n",
    "case class Player(name: String, score: Int)\n",
    "\n",
    "def computeWinner(p1: Player, p2: Player): Option[Player] = {\n",
    "  if(p1.score > p2.score) Some(p1)\n",
    "  else if (p2.score > p1.score) Some(p2)\n",
    "  else None\n",
    "}\n",
    "\n",
    "def capitalize(p: Player): Player = p.copy(name = p.name.toUpperCase)\n",
    "\n",
    "def checkScore(p: Player): Option[Player] = ???\n",
    "\n",
    "def displayWinner(p: Option[Player]): Unit = p match { \n",
    " case Some(p) => println(s\"${p.name} wins!\")\n",
    " case None => println(s\"It's a draw\")\n",
    "}\n",
    "\n",
    "\n",
    "//This is function composition\n",
    "def contest(p1: Player, p2: Player) = ???\n",
    "\n",
    "contest(Player(\"fpas\", 0), Player(\"gsmyrn\",-15)) "
   ]
  },
  {
   "cell_type": "markdown",
   "metadata": {},
   "source": [
    "### Conclusion\n",
    " - Scala is an expressive language that is able to support functional programming paradigm.\n",
    "\n",
    " - In functional programming paradigm we try to __describe__ with higher constructs the execution of programs.\n",
    " \n",
    " - We also try to handle side effects using contained and controlled parts of the program that __interpret__\n",
    " how to execute the side effects.\n",
    " \n",
    " - Side effects are __described__ in functional programming using more expressive types (\"embelished types\").\n",
    " \n",
    " - Functional programming tries to promote __Composability__ as a mean to achieve all the above goals.\n",
    " \n",
    " > Finally, functional programming requires a __paradigm shift__ \n",
    " \n",
    " > __FROM__ writing programs that do operations __TO__ writing programs that describe oparations\n"
   ]
  },
  {
   "cell_type": "markdown",
   "metadata": {},
   "source": [
    "### Resources\n",
    "\n",
    "- [Functional programming in scala](https://www.amazon.com/Functional-Programming-Scala-Paul Chiusano/dp/1617290653/ref=sr_1_1?ie=UTF8&qid=1504870248&sr=8-1&keywords=functional+programming+in+scala)\n"
   ]
  },
  {
   "cell_type": "markdown",
   "metadata": {},
   "source": [
    " _Fotios Paschos, `@fpaschos`, Sep 2017_"
   ]
  }
 ],
 "metadata": {
  "kernelspec": {
   "display_name": "Scala 2.11",
   "language": "scala211",
   "name": "scala211"
  },
  "language_info": {
   "codemirror_mode": "text/x-scala",
   "file_extension": ".scala",
   "mimetype": "text/x-scala",
   "name": "scala211",
   "pygments_lexer": "scala",
   "version": "2.11.7"
  }
 },
 "nbformat": 4,
 "nbformat_minor": 1
}
