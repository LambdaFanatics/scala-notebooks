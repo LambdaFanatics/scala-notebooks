{
 "cells": [
  {
   "cell_type": "markdown",
   "metadata": {},
   "source": [
    "## Scala a Functional Programming approach 2: Solutions"
   ]
  },
  {
   "cell_type": "markdown",
   "metadata": {},
   "source": [
    "__Exercise 1__: Implement function __map__ , which changing the internal type of an option but preserves its structure.  \n"
   ]
  },
  {
   "cell_type": "code",
   "execution_count": null,
   "metadata": {
    "collapsed": false
   },
   "outputs": [],
   "source": [
    "\n",
    "sealed trait Opt[+A]\n",
    "case object None extends Opt[Nothing]\n",
    "case class Some[+A](value: A) extends Opt[A]\n",
    "\n",
    "\n",
    "object Opt {\n",
    "  //Smart constructor\n",
    "  def apply[A](value: A): Opt[A] = if (value == null) None else Some(value) \n",
    "  \n",
    "  def isEmpty[A](value: Opt[A]): Boolean = value match {\n",
    "    case Some(a) => true   \n",
    "    case _ => false//case _ means everything else \n",
    "  }\n",
    "  \n",
    "  // Solution map\n",
    "  def map[A,B](opt: Opt[A], f: A => B): Opt[B] = opt match {\n",
    "    case Some(a) => Some(f(a))\n",
    "    case None => None\n",
    "  }\n",
    "}\n",
    "\n",
    "locally {\n",
    "  import Opt._\n",
    "\n",
    "//   map(Opt(null), (x: Int) => x + 1)\n",
    "  map(None, (x: Int) => x + 1)\n",
    "  map(Opt(1), (x: Int) => x + 1) // Test with integers\n",
    "  map(Opt(\"fotis\"), (x: String) => x.toUpperCase) // Test with strings\n",
    "\n",
    "  case class Player(name: String, score: Int) // Test with product\n",
    "  map(Opt(Player(\"fpas\",1)), (p: Player) => p.copy(score = p.score + 1))\n",
    "}"
   ]
  },
  {
   "cell_type": "markdown",
   "metadata": {},
   "source": [
    "__Exercise 2__: Implement \n",
    "\n",
    "__filter__ which keeps the element of an option if a given predicate holds,\n",
    "\n",
    "__exists__ which tests if a given predicate holds for the option,\n",
    "\n",
    "__foreach__ which executes a side effect using the value of an option (if any) \n",
    "\n",
    "_Hint_: For _filter_ and _exists_ use a case clause with a predicate if expression. ( `case  ... if ...  => ...` )"
   ]
  },
  {
   "cell_type": "code",
   "execution_count": null,
   "metadata": {
    "collapsed": false
   },
   "outputs": [],
   "source": [
    "sealed trait Opt[+A]\n",
    "case object None extends Opt[Nothing]\n",
    "case class Some[+A](value: A) extends Opt[A]\n",
    "\n",
    "\n",
    "object Opt {\n",
    "  //Smart constructor\n",
    "  def apply[A](value: A): Opt[A] = if (value == null) None else Some(value) \n",
    "  \n",
    "  def isEmpty[A](value: Opt[A]): Boolean = value match {\n",
    "    case Some(a) => true   \n",
    "    case _ => false  //case _ means everything else \n",
    "  }\n",
    "  \n",
    "  def filter[A](opt: Opt[A], p: A => Boolean): Opt[A] = opt match {\n",
    "    case Some(a) if p(a) => opt\n",
    "    case _ => None\n",
    "  }\n",
    "  \n",
    "  def exists[A](opt: Opt[A], p: A => Boolean): Boolean = opt match {\n",
    "    case Some(a) => p(a)\n",
    "    case None => false\n",
    "  }\n",
    " \n",
    "  def foreach[A, B](opt: Opt[A], f: A => Unit ): Unit = opt match {\n",
    "    case Some(a) => f(a)\n",
    "    case _ => ()\n",
    "  }\n",
    "}\n",
    "\n",
    "locally {\n",
    "  import Opt._\n",
    "\n",
    "  filter(Opt(1), (v: Int) => v == 1)\n",
    "  filter(Opt(1), (v: Int) => v < 0 )\n",
    "  \n",
    "  exists(Opt(\"Fotis\"), (v: String) => v == \"George\")\n",
    "  exists(Opt(\"Fotis\"), (v: String) => v == \"Fotis\")\n",
    "  \n",
    "  foreach(Opt(\"Fotis\"), println _ )\n",
    "  foreach(None, println _ ) // Should not execute\n",
    "}"
   ]
  },
  {
   "cell_type": "markdown",
   "metadata": {},
   "source": [
    "__Exercise 3__:\n",
    "\n",
    "Implement __tail__, which returns the tail of non empty list.\n",
    "\n",
    "Implement __setHead__, which replaces the head of the list.\n",
    "\n",
    "Implement __drop__, which drops the first n elements of the list."
   ]
  },
  {
   "cell_type": "code",
   "execution_count": null,
   "metadata": {
    "collapsed": false
   },
   "outputs": [],
   "source": [
    "sealed trait Lst[+A]\n",
    "case object Nil extends Lst[Nothing]\n",
    "case class Cons[+A](head: A, tail: Lst[A]) extends Lst[A]\n",
    "\n",
    "object Lst {\n",
    "\n",
    "    def apply[A](ss: A*): Lst[A] =      \n",
    "      if(ss.isEmpty) Nil\n",
    "      else Cons(ss.head, apply(ss.tail: _*))\n",
    "      \n",
    "    def head[A](l: Lst[A]): A = l match {\n",
    "       case Nil => sys.error(\"Invoking head on empty list.\")\n",
    "       case Cons(a,_) => a\n",
    "    }\n",
    "    \n",
    "    def tail[A](l: Lst[A]): Lst[A] = l match {\n",
    "        case Nil => sys.error(\"tail of empty list\")\n",
    "        case Cons(_,t) => t\n",
    "    }\n",
    "    \n",
    "    def setHead[A](l: Lst[A], h: A): Lst[A] = l match {\n",
    "        case Nil => sys.error(\"setHead on empty list\")\n",
    "        case Cons(_,t) => Cons(h,t)\n",
    "    }\n",
    "    \n",
    "    def drop[A](l: Lst[A], n: Int): Lst[A] =\n",
    "      if (n <= 0) l\n",
    "      else l match {\n",
    "        case Nil => Nil\n",
    "        case Cons(_,t) => drop(t, n-1)\n",
    "      }\n",
    "}"
   ]
  },
  {
   "cell_type": "markdown",
   "metadata": {},
   "source": [
    "__Exercise 4__: Implement __init__ which returns the first elements of a list without the last one.\n",
    "\n",
    "_Note: Do you see something disturbing with your implementation?_ "
   ]
  },
  {
   "cell_type": "code",
   "execution_count": null,
   "metadata": {
    "collapsed": false
   },
   "outputs": [],
   "source": [
    "sealed trait Lst[+A]\n",
    "case object Nil extends Lst[Nothing]\n",
    "case class Cons[+A](head: A, tail: Lst[A]) extends Lst[A]\n",
    "\n",
    "object Lst {\n",
    "\n",
    "    def apply[A](ss: A*): Lst[A] =      \n",
    "      if(ss.isEmpty) Nil\n",
    "      else Cons(ss.head, apply(ss.tail: _*))\n",
    "      \n",
    "    def head[A](l: Lst[A]): A = l match {\n",
    "       case Nil => sys.error(\"Invoking head on empty list.\")\n",
    "       case Cons(a,_) => a\n",
    "    }\n",
    "    \n",
    "    def init[A](l: Lst[A]): Lst[A] = l match {\n",
    "      case Nil => sys.error(\"Invoking init on empty list\")\n",
    "      case Cons(_, Nil) => Nil\n",
    "      case Cons(h,t) => Cons(h, init(t))\n",
    "    }\n",
    "    \n",
    "    // There is a more efficient implementation using mutable list so that we will not reconstruct the list in every step\n",
    "    // and to avoid stack overflows\n",
    "    \n",
    "//     def  init[A](l: Lst[A]): Lst[A] = {\n",
    "//       import collection.mutable.ListBuffer\n",
    "//       val buf = new ListBuffer[A]\n",
    "      \n",
    "//       def go(cur: Lst[A]): Lst[A] = cur match {\n",
    "//         case Nil => sys.error(\"Invoking init on empty list\")\n",
    "//         case Cons(_, Nil) => Lst(buf.toList: _*)\n",
    "//         case Cons(h,t) => buf += h; go(t)\n",
    "//       }\n",
    "//       go(l)\n",
    "//     }\n",
    "  \n",
    "}\n",
    "\n",
    "val list = Lst(\"1\",\"2\",\"3\") \n",
    "val singleList = Lst(\"10\")\n",
    "val emptyList = Lst[String]() // Nil\n",
    "\n",
    "Lst.init(list)\n",
    "Lst.init(singleList)\n",
    "try { Lst.init(emptyList) } catch { case x => x } "
   ]
  },
  {
   "cell_type": "markdown",
   "metadata": {},
   "source": [
    "__Exercise 5__: Implement function __map__ , which changing the internal type of a list but preserves its structure.\n",
    "\n",
    "_Hint: You can use the foldLeft don't reinvent the wheel_"
   ]
  },
  {
   "cell_type": "code",
   "execution_count": null,
   "metadata": {
    "collapsed": false
   },
   "outputs": [],
   "source": [
    "sealed trait Lst[+A]\n",
    "case object Nil extends Lst[Nothing]\n",
    "case class Cons[+A](head: A, tail: Lst[A]) extends Lst[A]\n",
    "\n",
    "object Lst {\n",
    "\n",
    "    def apply[A](ss: A*): Lst[A] =      \n",
    "      if(ss.isEmpty) Nil\n",
    "      else Cons(ss.head, apply(ss.tail: _*))\n",
    "      \n",
    "    def head[A](l: Lst[A]): A = l match {\n",
    "       case Nil => sys.error(\"Invoking head on empty list.\")\n",
    "       case Cons(a,_) => a\n",
    "    }\n",
    "    \n",
    "    // Collapses the list to one value using a initial element and a binary operation. \n",
    "    // This is done from rigth to left (from the last element to the first)\n",
    "    def foldRight[A,B](l: Lst[A], z: B)(f: (A,B) => B): B = l match {\n",
    "      case Nil => z\n",
    "      case Cons(x, xs) => f(x, foldRight(xs,z)(f))\n",
    "    }\n",
    "    \n",
    "    // This is the tail recursive version of the operation above ( it is not always the same why?)\n",
    "    // Collapses the list to one value using a initial element and a binary operation. \n",
    "    // This is done from rigth to left (from the last element to the first)\n",
    "    @annotation.tailrec\n",
    "    def foldLeft[A,B](l: Lst[A], z: B)(f: (B, A) => B): B = l match {\n",
    "      case Nil => z\n",
    "      case Cons(h,t) => foldLeft(t, f(z,h))(f)\n",
    "    }\n",
    "    \n",
    "\n",
    "// This is a more straigth forward but inefficient implementation ( due to code replication)    \n",
    "//     def map[A,B](l: Lst[A], f: A => B): Lst[B] = l match {\n",
    "//       case Nil => Nil\n",
    "//       case Cons(h, t) => Cons(f(h), map(t,f))\n",
    "//     }\n",
    "\n",
    "   def map[A,B](l: Lst[A], f: A => B): Lst[B] = foldRight(l, Nil:Lst[B])((h,t) => Cons(f(h),t))\n",
    "}\n",
    "val list = Lst(1,2,3)\n",
    "Lst.map(list, (i: Int) => i.toString)\n",
    "Lst.map(list, (i: Int) => i + 1)"
   ]
  }
 ],
 "metadata": {
  "kernelspec": {
   "display_name": "Scala 2.11",
   "language": "scala211",
   "name": "scala211"
  },
  "language_info": {
   "codemirror_mode": "text/x-scala",
   "file_extension": ".scala",
   "mimetype": "text/x-scala",
   "name": "scala211",
   "pygments_lexer": "scala",
   "version": "2.11.7"
  }
 },
 "nbformat": 4,
 "nbformat_minor": 1
}
