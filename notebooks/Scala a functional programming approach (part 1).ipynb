{
 "cells": [
  {
   "cell_type": "markdown",
   "metadata": {},
   "source": [
    "## Scala:  a functional programming approach (part 1)\n",
    "\n",
    "#### Abstract\n",
    "This document is a efford to introduce the strengths and benefits of functional programming in scala.\n",
    "\n",
    "We do not claim intelectual property of all the material presented.\n",
    "We specifically refer to the original resources whenever is needed.\n",
    "\n",
    "The presentation path of the consepts is still under consideration and may be changed in future reviews.\n"
   ]
  },
  {
   "cell_type": "code",
   "execution_count": null,
   "metadata": {
    "collapsed": false
   },
   "outputs": [],
   "source": [
    "//Based on the above\n",
    "\n",
    "def f(x: Int) = { x + 1 }    // Is a pure function\n",
    "\n",
    "val g = (x: Int) => s\"$x\" // Is a pure function\n",
    "\n",
    "def impure1(x: Int) = { //Is impure (why?)\n",
    "  println(x)\n",
    "} \n",
    "\n",
    "def impure2(x: Double) = 10 / x  //Is umpure (why?)\n",
    "\n",
    "def impure3(x: Int) = if (x > 0) x else sys.error(\"only positive numbers\") //Definitely impure"
   ]
  },
  {
   "cell_type": "markdown",
   "metadata": {},
   "source": [
    "We can call evaluate/execute without fear the pure functions but what about the impure ones?"
   ]
  },
  {
   "cell_type": "code",
   "execution_count": null,
   "metadata": {
    "collapsed": false
   },
   "outputs": [],
   "source": [
    "val f1 = f(1)\n",
    "val imp1 = impure1(1)\n",
    "val imp2 = impure2(0) //Do at your own risk."
   ]
  },
  {
   "cell_type": "markdown",
   "metadata": {},
   "source": [
    "How would you test function __impure1__?\n",
    "\n",
    "It might not be so obvious here (in the scala notebook environment) but the call of __impure2(0)__ causes a __RuntimeException__.\n",
    "\n",
    "It is more explicitly defined in method __impure3__\n"
   ]
  },
  {
   "cell_type": "code",
   "execution_count": null,
   "metadata": {
    "collapsed": false
   },
   "outputs": [],
   "source": [
    "val imp3 = impure3(-2)"
   ]
  },
  {
   "cell_type": "markdown",
   "metadata": {},
   "source": [
    "#### Composability"
   ]
  },
  {
   "cell_type": "code",
   "execution_count": null,
   "metadata": {
    "collapsed": false
   },
   "outputs": [],
   "source": [
    " \n",
    "// h = g o f\n",
    "val gof = g compose f _ //Note the use of the underscore\n",
    "\n",
    "val `gof(1)` = gof(1)\n",
    "\n",
    "val impure4 = impure3 _ compose f _  //Impure function composition produces more impure functions\n",
    "//  impure4 (-1) throws ..."
   ]
  },
  {
   "cell_type": "markdown",
   "metadata": {},
   "source": [
    "### Purity and real world\n",
    "\n",
    "So far so good, function purity is desired in programs, but the reality is devastating. All the programs that matter to us \"contain\" side effects. \n",
    "\n",
    "__So is this introduction all in vain?__\n",
    "\n",
    " Purity matters even if the overall execution of our programs is impure. What we actually desire is to \n",
    "_separate_ the __impure parts__ of our programs from the __pure__ ones. That means that we write the _\"business logic\"_ or _\"logic\"_ of our program in pure functions and hand the results to impure functions to do the \"dirty work\".\n",
    "In our context the \"dirty work\" is _side effects_ of all kinds.\n",
    "\n",
    "Let's proceed in a more concrete example\n",
    "\n",
    "#### Example: Refactoring effects.\n",
    "\n",
    "*resource: [Functional programming in scala: Chapter 13](https://www.amazon.com/Functional-Programming-Scala-Paul Chiusano/dp/1617290653/ref=sr_1_1?ie=UTF8&qid=1504870248&sr=8-1&keywords=functional+programming+in+scala)\n",
    " \n",
    "Consider the above fragment of code which calculates the winner of a contest: "
   ]
  },
  {
   "cell_type": "code",
   "execution_count": null,
   "metadata": {
    "collapsed": false
   },
   "outputs": [],
   "source": [
    "//[Program 1]: decide the winner of a contest.\n",
    "case class Player(name: String, score: Int)\n",
    "\n",
    "def contest(p1: Player, p2: Player): Unit = {\n",
    "  if(p1.score > p2.score)\n",
    "    println(s\"${p1.name} wins!\")\n",
    "  else if(p2.score > p1.score)\n",
    "    println(s\"${p2.name} wins!\")\n",
    "  else\n",
    "    println(\"It is a draw!\")\n",
    "}\n",
    "\n",
    "// Who is the winner?\n",
    "contest(Player(\"fpas\", 5), Player(\"gsmyrn\", 10)) "
   ]
  },
  {
   "cell_type": "markdown",
   "metadata": {},
   "source": [
    "We are done right? The program works and prints the correct results.\n",
    "\n",
    "This program, though simple, has some flows. One of them is that it cannot be tested (easily). \n",
    "This is because the the actual \"logic\" of computing the winner is interleaved with the mechanism of printing the result.\n",
    "\n",
    "Let's change this."
   ]
  },
  {
   "cell_type": "code",
   "execution_count": null,
   "metadata": {
    "collapsed": false
   },
   "outputs": [],
   "source": [
    "//[Program 2]: Split the logic from the effect.\n",
    "case class Player(name: String, score: Int)\n",
    "\n",
    "def computeWinner(p1: Player, p2: Player): Player = {\n",
    "  if(p1.score > p2.score) p1\n",
    "  else p2 \n",
    "}\n",
    "\n",
    "def displayWinner(p: Player): Unit = {\n",
    " println(s\"${p.name} wins!\")\n",
    "}\n",
    "\n",
    "//This is function composition\n",
    "def contest(p1: Player, p2: Player) = displayWinner(computeWinner(p1,p2))\n",
    "\n",
    "// Who is the winner?\n",
    "contest(Player(\"fpas\", 5), Player(\"gsmyrn\", 10)) "
   ]
  },
  {
   "cell_type": "markdown",
   "metadata": {},
   "source": [
    "With this simple refactor the contest function is a composition of two other functions. The first part is a __pure__ function containing the logic and the second part is an __impure__ function that dispays the results.\n",
    "The overall ```contest``` function is __impure__.\n",
    "\n",
    "> __Take away 1__\n",
    "\n",
    "> Given an impure function of type ```f: A => B``` we can split into to other functions.\n",
    "> - A __pure__ function of type ``` A => D```  where ```D``` __describes__ the result of ```f```.\n",
    "> - An __impure__ function of type ```D => B```, which __interprets__ ```D``` and executes the result.\n",
    "\n",
    "That is what we strive to do in functional programming. Describe all the operations of a program in __composed pure functions__ and __promote/push/delay__ the (side) __effects execution__ to the end of the \"chain\". "
   ]
  },
  {
   "cell_type": "markdown",
   "metadata": {},
   "source": [
    "The carefull reader, by now, will have discover an incosistency between ```Program 1``` and ```Program 2```. The wo programs are not equivalent.\n",
    "\n",
    "What happened to the draw case in ```Program 2```?\n",
    "This was intentional and the inconsistency is caused by the fact that our pure function ```computeWinner``` cannot handle the case of a draw. \n",
    "\n",
    "It cannot handle it because there is no obvious result of type ```Player``` to return in the case of scores equality."
   ]
  },
  {
   "cell_type": "markdown",
   "metadata": {},
   "source": [
    "#### A closer look at side effects.\n",
    "\n",
    "So a pure function such as ```computeWinner``` cannot handle with the cases where there is no winner.\n",
    "\n",
    "_This is natural because a pure function must define an output for each given input_. \n",
    "\n",
    "But in our case we want the function to handle cases of player pairs where there is no output (winner).\n",
    "That is a better implementation of the ```computeWinner``` would be:"
   ]
  },
  {
   "cell_type": "code",
   "execution_count": null,
   "metadata": {
    "collapsed": false
   },
   "outputs": [],
   "source": [
    "//[Program 3]: A better computeWinner\n",
    "\n",
    "def computeWinner(p1: Player, p2: Player): Player = {\n",
    "  if(p1.score > p2.score) p1\n",
    "  else if (p2.score > p1.score) p2\n",
    "  else null //null is a special value for this function that denotes that there is no winner.\n",
    "}\n"
   ]
  },
  {
   "cell_type": "markdown",
   "metadata": {},
   "source": [
    "Problem solved ! The function remains pure ( `null` is value of type `Player` ). Let's try it !"
   ]
  },
  {
   "cell_type": "code",
   "execution_count": null,
   "metadata": {
    "collapsed": false
   },
   "outputs": [],
   "source": [
    "//[Program 3 - continue]\n",
    "\n",
    "def displayWinner(p: Player): Unit = {\n",
    " println(s\"${p.name} wins!\")\n",
    "}\n",
    "\n",
    "//This is function composition\n",
    "def contest(p1: Player, p2: Player) = displayWinner(computeWinner(p1,p2))\n",
    "\n",
    "\n",
    "// Who is the winner?\n",
    "contest(Player(\"fpas\", 10), Player(\"gsmyrn\", 10)) "
   ]
  },
  {
   "cell_type": "markdown",
   "metadata": {},
   "source": [
    "Not what we expected a ```NullPointerException``` that is because `displayWinner` must learn to handle `null` values of players.\n",
    "\n",
    "We can do that!\n",
    "\n",
    "_But wait, do we want to do that?_ \n",
    "\n",
    "_We have done it many times and works but is there __a better way__?_\n",
    "\n",
    "We don't want to handle null cases in our code like that. Because null leads to hidden side effects like exceptions.\n",
    "\n",
    "> We want the end user of the pure function `computeWinner` to have a good __description__ type for its result.\n",
    "\n",
    "So the correct question is: \n",
    "\n",
    "__Which data type is appropriate to describe the side effect of partial functions?__\n",
    "\n",
    "An alternative more functional approach to the \"partial function\" side effect problem is the `Option[A]` type.\n"
   ]
  },
  {
   "cell_type": "code",
   "execution_count": 29,
   "metadata": {
    "collapsed": false
   },
   "outputs": [
    {
     "name": "stdout",
     "output_type": "stream",
     "text": [
      "fpas wins!\n"
     ]
    },
    {
     "data": {
      "text/plain": [
       "defined \u001b[32mclass \u001b[36mPlayer\u001b[0m\n",
       "defined \u001b[32mfunction \u001b[36mcomputeWinner\u001b[0m\n",
       "defined \u001b[32mfunction \u001b[36mdisplayWinner\u001b[0m\n",
       "defined \u001b[32mfunction \u001b[36mcontest\u001b[0m"
      ]
     },
     "metadata": {},
     "output_type": "display_data"
    }
   ],
   "source": [
    "//[Program 4]: computeWinner with Option[A]\n",
    "case class Player(name: String, score: Int)\n",
    "\n",
    "def computeWinner(p1: Player, p2: Player): Option[Player] = {\n",
    "  if(p1.score > p2.score) Some(p1)\n",
    "  else if (p2.score > p1.score) Some(p2)\n",
    "  else None\n",
    "}\n",
    "\n",
    "def displayWinner(p: Option[Player]): Unit = p match { //Pattern match instead of 'if' construct\n",
    " case Some(p) => println(s\"${p.name} wins!\")\n",
    " case None => println(s\"It's a draw\")\n",
    "}\n",
    "\n",
    "//This is function composition\n",
    "def contest(p1: Player, p2: Player) = displayWinner(computeWinner(p1,p2))\n",
    "\n",
    "// Who is the winner? (handles draw)\n",
    "contest(Player(\"fpas\", 5), Player(\"gsmyrn\", 5)) \n",
    "\n"
   ]
  },
  {
   "cell_type": "markdown",
   "metadata": {},
   "source": [
    "`Program 4` implementation is real close to `Program 3` implementation which used `null`  in place of `None`.\n",
    "\n",
    "> The __key difference__ is that according to __Take away 1__ we realized that the pure function `f: A =>D` ( `computeWinner`) used a data type `D` (`Player`) that __was not expressive enough to describe the side effect of \"partial function\"__\n",
    "\n",
    "\n",
    "So we chose an \"embelised type\" to __describe__ the absense of result value at some cases. \n",
    "\n",
    "Note, that now every one that reads the signature\n",
    "\n",
    "```def computeWinner(p1: Player, p2: Player): Option[Player]```\n",
    "\n",
    "knows that the method does something that may or may not return a value. The side effect is described and is not hidden as in the case of `null` usage, or any other programming convention."
   ]
  },
  {
   "cell_type": "markdown",
   "metadata": {},
   "source": [
    "### Conclusion\n",
    " - Scala is an expressive language that is able to support functional programming paradigm.\n",
    "\n",
    " - In functional programming paradigm we try to __describe__ with higher constructs the execution of programs.\n",
    " \n",
    " - We also try to handle side effects using contained and controlled parts of the program that __interpret__\n",
    " how to execute the side effects.\n",
    " \n",
    " - Side effects are __described__ in functional programming using more expressive types (\"embelished types\").\n",
    " \n",
    " - Above all functional programming tries to promote __Composability__ as a mean to achieve all the above goals.\n"
   ]
  },
  {
   "cell_type": "markdown",
   "metadata": {},
   "source": [
    " _Fotios Paschos, `@fpaschos` Sep, 2017_"
   ]
  },
  {
   "cell_type": "markdown",
   "metadata": {},
   "source": [
    "### Structures and concepts in functional programming\n",
    "_TODO_\n",
    "\n",
    "\n",
    "#### Functors\n",
    "List is a functor\n"
   ]
  },
  {
   "cell_type": "code",
   "execution_count": 30,
   "metadata": {
    "collapsed": false
   },
   "outputs": [
    {
     "name": "stdout",
     "output_type": "stream",
     "text": [
      "Adding 0 artifact(s)\n"
     ]
    },
    {
     "data": {
      "text/plain": []
     },
     "metadata": {},
     "output_type": "display_data"
    }
   ],
   "source": [
    "// Pure functions are composable.\n",
    "classpath.add(\"org.typelevel\" %% \"cats-core\" % \"1.0.0-MF\")"
   ]
  },
  {
   "cell_type": "code",
   "execution_count": 31,
   "metadata": {
    "collapsed": false
   },
   "outputs": [
    {
     "data": {
      "text/plain": [
       "\u001b[32mimport \u001b[36mcats.Functor\u001b[0m\n",
       "\u001b[32mimport \u001b[36mcats.instances.list._\u001b[0m\n",
       "\u001b[36minitial\u001b[0m: \u001b[32mList\u001b[0m[\u001b[32mInt\u001b[0m] = \u001b[33mList\u001b[0m(\u001b[32m1\u001b[0m, \u001b[32m2\u001b[0m, \u001b[32m3\u001b[0m, \u001b[32m4\u001b[0m)\n",
       "\u001b[36mres1\u001b[0m: \u001b[32mList\u001b[0m[\u001b[32mInt\u001b[0m] = \u001b[33mList\u001b[0m(\u001b[32m2\u001b[0m, \u001b[32m3\u001b[0m, \u001b[32m4\u001b[0m, \u001b[32m5\u001b[0m)\n",
       "\u001b[36minc\u001b[0m: \u001b[32mInt\u001b[0m => \u001b[32mInt\u001b[0m = <function1>\n",
       "\u001b[36mlifted\u001b[0m: \u001b[32mList\u001b[0m[\u001b[32mInt\u001b[0m] => \u001b[32mList\u001b[0m[\u001b[32mInt\u001b[0m] = <function1>\n",
       "\u001b[36mres2\u001b[0m: \u001b[32mList\u001b[0m[\u001b[32mInt\u001b[0m] = \u001b[33mList\u001b[0m(\u001b[32m2\u001b[0m, \u001b[32m3\u001b[0m, \u001b[32m4\u001b[0m, \u001b[32m5\u001b[0m)"
      ]
     },
     "metadata": {},
     "output_type": "display_data"
    }
   ],
   "source": [
    "//Advanced-scala 3.5.1\n",
    "import cats.Functor\n",
    "import cats.instances.list._\n",
    "\n",
    "val initial = List(1,2,3,4)\n",
    "\n",
    "//Apply map directly\n",
    "val res1 = Functor[List].map(initial)(_ + 1)\n",
    "\n",
    "//Using lift\n",
    "val inc = (x: Int) => x + 1\n",
    "val lifted = Functor[List].lift(inc)\n",
    "val res2 = lifted(initial)\n",
    "\n"
   ]
  }
 ],
 "metadata": {
  "kernelspec": {
   "display_name": "Scala 2.11",
   "language": "scala211",
   "name": "scala211"
  },
  "language_info": {
   "codemirror_mode": "text/x-scala",
   "file_extension": ".scala",
   "mimetype": "text/x-scala",
   "name": "scala211",
   "pygments_lexer": "scala",
   "version": "2.11.7"
  }
 },
 "nbformat": 4,
 "nbformat_minor": 1
}
