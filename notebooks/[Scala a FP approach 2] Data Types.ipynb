{
 "cells": [
  {
   "cell_type": "markdown",
   "metadata": {
    "collapsed": true
   },
   "source": [
    "## Scala a functional programming approach 2: Data Types\n",
    "\n",
    "\n",
    "#### Abstract\n",
    "This document is a efford to introduce the strengths and benefits of functional programming in scala.\n",
    "\n",
    "We do not claim intelectual property of all the material presented.\n",
    "We specifically refer to the original resources whenever is needed.\n",
    "\n",
    "The presentation path of the consepts is still under consideration and may be changed in future reviews."
   ]
  },
  {
   "cell_type": "markdown",
   "metadata": {},
   "source": [
    "#### Collections"
   ]
  },
  {
   "cell_type": "code",
   "execution_count": 31,
   "metadata": {
    "collapsed": false
   },
   "outputs": [
    {
     "ename": "",
     "evalue": "",
     "output_type": "error",
     "traceback": [
      "\u001b[31mMain.scala:45: type mismatch;",
      " found   : cmd31.this.$ref$cmd25.Nil.type",
      " required: List[Int]",
      "4 :: (Nil: List[Int]) ",
      "      ^\u001b[0m"
     ]
    }
   ],
   "source": [
    "// Immutable List data type\n",
    "import scala.collection.immutable.List\n",
    "\n",
    "\n",
    "// A list of numbers\n",
    "val numbers = List(1,2,3)\n",
    "\n",
    "// Operations\n",
    "val head = numbers.head\n",
    "val tail = numbers.tail\n",
    "val init = numbers.init\n",
    "val reverse = number.reverse\n",
    "\n",
    "val moreNumbers: List[Int] = 4 :: (Nil: List[Int])\n",
    "\n",
    "\n",
    "\n",
    "\n",
    "\n",
    "\n",
    "\n"
   ]
  },
  {
   "cell_type": "code",
   "execution_count": 26,
   "metadata": {
    "collapsed": false
   },
   "outputs": [
    {
     "ename": "",
     "evalue": "",
     "output_type": "error",
     "traceback": [
      "Failure(\")\":8:17 ...\"*): {\\n    \")"
     ]
    }
   ],
   "source": [
    "// Let's create our own immutable list.\n",
    "\n",
    "sealed trait List[+A]\n",
    "case object Nil extends List[Nothing]\n",
    "case class Cons[A](value: A, tail: List[A]) extends List[A]\n",
    "\n",
    "object List {\n",
    "  def apply[A](A*): {\n",
    "    \n",
    "  }\n",
    "}\n",
    "\n",
    "val a: List[Int] = Nil\n",
    "\n",
    "val numbers = List(1,2,3)"
   ]
  }
 ],
 "metadata": {
  "kernelspec": {
   "display_name": "Scala 2.11",
   "language": "scala211",
   "name": "scala211"
  },
  "language_info": {
   "codemirror_mode": "text/x-scala",
   "file_extension": ".scala",
   "mimetype": "text/x-scala",
   "name": "scala211",
   "pygments_lexer": "scala",
   "version": "2.11.7"
  }
 },
 "nbformat": 4,
 "nbformat_minor": 1
}
