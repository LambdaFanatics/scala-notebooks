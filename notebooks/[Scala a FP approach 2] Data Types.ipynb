{
 "cells": [
  {
   "cell_type": "markdown",
   "metadata": {
    "collapsed": true
   },
   "source": [
    "## Scala a functional programming approach 2: Data Types\n",
    "\n",
    "\n",
    "#### Abstract\n",
    "This document is a efford to introduce the strengths and benefits of functional programming in scala.\n",
    "\n",
    "We do not claim intelectual property of all the material presented.\n",
    "We specifically refer to the original resources whenever is needed.\n",
    "\n",
    "The presentation path of the consepts is still under consideration and may be changed in future reviews."
   ]
  },
  {
   "cell_type": "markdown",
   "metadata": {},
   "source": [
    "### Outline\n",
    "- Polymorphism\n",
    "- Parametric polymorphism\n",
    "- Pattern matching\n",
    "- Basic immutable collections\n",
    "- Basic ADTs \n",
    "\n"
   ]
  },
  {
   "cell_type": "markdown",
   "metadata": {},
   "source": [
    "#### [Scala Immutable List](https://www.scala-lang.org/api/current/scala/collection/immutable/List.html)\n",
    "\n"
   ]
  },
  {
   "cell_type": "code",
   "execution_count": 15,
   "metadata": {
    "collapsed": false
   },
   "outputs": [
    {
     "data": {
      "text/plain": [
       "\u001b[32mimport \u001b[36mscala.collection.immutable.List\u001b[0m\n",
       "\u001b[36mnumbers\u001b[0m: \u001b[32mList\u001b[0m[\u001b[32mInt\u001b[0m] = \u001b[33mList\u001b[0m(\u001b[32m1\u001b[0m, \u001b[32m2\u001b[0m, \u001b[32m3\u001b[0m)\n",
       "\u001b[36mmoreNumbers\u001b[0m: \u001b[32mList\u001b[0m[\u001b[32mInt\u001b[0m] = \u001b[33mList\u001b[0m(\u001b[32m4\u001b[0m, \u001b[32m5\u001b[0m)\n",
       "\u001b[36mhead\u001b[0m: \u001b[32mInt\u001b[0m = \u001b[32m1\u001b[0m\n",
       "\u001b[36mtail\u001b[0m: \u001b[32mList\u001b[0m[\u001b[32mInt\u001b[0m] = \u001b[33mList\u001b[0m(\u001b[32m2\u001b[0m, \u001b[32m3\u001b[0m)\n",
       "\u001b[36minit\u001b[0m: \u001b[32mList\u001b[0m[\u001b[32mInt\u001b[0m] = \u001b[33mList\u001b[0m(\u001b[32m1\u001b[0m, \u001b[32m2\u001b[0m)\n",
       "\u001b[36mlast\u001b[0m: \u001b[32mInt\u001b[0m = \u001b[32m3\u001b[0m\n",
       "\u001b[36mreverse\u001b[0m: \u001b[32mList\u001b[0m[\u001b[32mInt\u001b[0m] = \u001b[33mList\u001b[0m(\u001b[32m3\u001b[0m, \u001b[32m2\u001b[0m, \u001b[32m1\u001b[0m)\n",
       "\u001b[36mres14_8\u001b[0m: \u001b[32mList\u001b[0m[\u001b[32mInt\u001b[0m] = \u001b[33mList\u001b[0m(\u001b[32m1\u001b[0m, \u001b[32m2\u001b[0m, \u001b[32m3\u001b[0m, \u001b[32m4\u001b[0m, \u001b[32m5\u001b[0m)\n",
       "\u001b[36mres14_9\u001b[0m: \u001b[32mList\u001b[0m[\u001b[32mInt\u001b[0m] = \u001b[33mList\u001b[0m(\u001b[32m0\u001b[0m, \u001b[32m1\u001b[0m, \u001b[32m2\u001b[0m, \u001b[32m3\u001b[0m)\n",
       "\u001b[36mres14_10\u001b[0m: \u001b[32mList\u001b[0m[\u001b[32mInt\u001b[0m] = \u001b[33mList\u001b[0m(\u001b[32m0\u001b[0m, \u001b[32m1\u001b[0m, \u001b[32m2\u001b[0m, \u001b[32m3\u001b[0m)\n",
       "\u001b[36mres14_11\u001b[0m: \u001b[32mList\u001b[0m[\u001b[32mInt\u001b[0m] = \u001b[33mList\u001b[0m(\u001b[32m4\u001b[0m, \u001b[32m5\u001b[0m, \u001b[32m6\u001b[0m)"
      ]
     },
     "metadata": {},
     "output_type": "display_data"
    }
   ],
   "source": [
    "// Immutable List data type\n",
    "import scala.collection.immutable.List\n",
    "\n",
    "\n",
    "// Constructing lists\n",
    "val numbers = List(1,2,3)\n",
    "val moreNumbers: List[Int] = 4 :: 5 :: Nil\n",
    "\n",
    "// Operations\n",
    "val head = numbers.head\n",
    "val tail = numbers.tail\n",
    "val init = numbers.init\n",
    "val last = numbers.last\n",
    "val reverse = numbers.reverse\n",
    "\n",
    "\n",
    "//Concatenation\n",
    "numbers ++ moreNumbers\n",
    "\n",
    "//Prepend\n",
    "0 :: numbers // = numbers.::(0)\n",
    "0 +: numbers\n",
    "\n",
    "//Append \n",
    "moreNumbers :+ 6\n"
   ]
  },
  {
   "cell_type": "markdown",
   "metadata": {},
   "source": [
    "#### Example:  Recreating the immutable list"
   ]
  },
  {
   "cell_type": "code",
   "execution_count": 3,
   "metadata": {
    "collapsed": false
   },
   "outputs": [
    {
     "data": {
      "text/plain": [
       "defined \u001b[32mtrait \u001b[36mLst\u001b[0m\n",
       "defined \u001b[32mobject \u001b[36mNil\u001b[0m\n",
       "defined \u001b[32mclass \u001b[36mCons\u001b[0m\n",
       "\u001b[36mempty\u001b[0m: \u001b[32m$user\u001b[0m.\u001b[32mLst\u001b[0m[\u001b[32mInt\u001b[0m] = Nil\n",
       "\u001b[36mnumbers\u001b[0m: \u001b[32m$user\u001b[0m.\u001b[32mLst\u001b[0m[\u001b[32mInt\u001b[0m] = Cons(1,Cons(2,Cons(3,Nil)))\n",
       "defined \u001b[32mobject \u001b[36mLst\u001b[0m\n",
       "\u001b[36mres2_6\u001b[0m: \u001b[32m$user\u001b[0m.\u001b[32mLst\u001b[0m[\u001b[32mInt\u001b[0m] = Cons(1,Cons(2,Cons(3,Nil)))"
      ]
     },
     "metadata": {},
     "output_type": "display_data"
    }
   ],
   "source": [
    "// Recreating immutable list\n",
    "\n",
    "sealed trait Lst[+A]\n",
    "case object Nil extends Lst[Nothing]\n",
    "case class Cons[A](head: A, tail: Lst[A]) extends Lst[A]\n",
    "\n",
    "\n",
    "val empty: Lst[Int] = Nil\n",
    "val numbers: Lst[Int] = Cons(1, Cons(2, Cons(3, Nil)))\n",
    "\n",
    "\n",
    "object Lst {\n",
    "\n",
    "  def apply[A](ss: A*): Lst[A] =      \n",
    "      if(ss.isEmpty) Nil\n",
    "      else Cons(ss.head, apply(ss.tail: _*))\n",
    "}\n",
    "\n",
    "Lst(1,2,3) //Now we can write"
   ]
  },
  {
   "cell_type": "markdown",
   "metadata": {},
   "source": [
    "#### Pattern matching"
   ]
  },
  {
   "cell_type": "code",
   "execution_count": 17,
   "metadata": {
    "collapsed": false
   },
   "outputs": [
    {
     "data": {
      "text/plain": [
       "defined \u001b[32mfunction \u001b[36mfunnyMatch\u001b[0m\n",
       "\u001b[36mres16_1\u001b[0m: \u001b[32mString\u001b[0m = \u001b[32m\"Nil\"\u001b[0m\n",
       "\u001b[36mres16_2\u001b[0m: \u001b[32mString\u001b[0m = \u001b[32m\"test foo\"\u001b[0m\n",
       "\u001b[36mres16_3\u001b[0m: \u001b[32mString\u001b[0m = \u001b[32m\"Starting with 1\"\u001b[0m"
      ]
     },
     "metadata": {},
     "output_type": "display_data"
    }
   ],
   "source": [
    "def funnyMatch(l: Lst[String]): String =  l match {\n",
    "  case (Cons(x, Cons(\"2\", Cons(y, _)))) => x + y\n",
    "  case Nil => \"Nil\"\n",
    "  case Cons(\"1\", _) => \"Starting with 1\"\n",
    "  case _ => sys.error(\"Oops!!!\")\n",
    "}\n",
    "\n",
    "funnyMatch(Lst())\n",
    "\n",
    "funnyMatch(Lst(\"test \", \"2\", \"foo\"))\n",
    "\n",
    "funnyMatch(Lst(\"1\", \"2\"))\n",
    "\n",
    "// funnyMatch(Lst(\"2\", \"3\")) throws Opps!\n",
    "\n",
    "// funnyMatch(Lst(1,2)) type mismatch\n"
   ]
  },
  {
   "cell_type": "markdown",
   "metadata": {},
   "source": [
    "#### Implementing list operations"
   ]
  },
  {
   "cell_type": "code",
   "execution_count": 4,
   "metadata": {
    "collapsed": false
   },
   "outputs": [
    {
     "data": {
      "text/plain": [
       "defined \u001b[32mobject \u001b[36mLst\u001b[0m\n",
       "\u001b[36mres3_1\u001b[0m: \u001b[32mLst\u001b[0m[\u001b[32mInt\u001b[0m] = Cons(1,Cons(2,Cons(3,Nil)))"
      ]
     },
     "metadata": {},
     "output_type": "display_data"
    }
   ],
   "source": [
    "object Lst {\n",
    "\n",
    "    def apply[A](ss: A*): Lst[A] =      \n",
    "      if(ss.isEmpty) Nil\n",
    "      else Cons(ss.head, apply(ss.tail: _*))\n",
    "      \n",
    "    def\n",
    "      \n",
    "}\n",
    "Lst(1,2,3)"
   ]
  },
  {
   "cell_type": "markdown",
   "metadata": {},
   "source": [
    "### Resources\n",
    "\n",
    "- [Functional programming in scala](https://www.amazon.com/Functional-Programming-Scala-Paul Chiusano/dp/1617290653/ref=sr_1_1?ie=UTF8&qid=1504870248&sr=8-1&keywords=functional+programming+in+scala)"
   ]
  },
  {
   "cell_type": "markdown",
   "metadata": {},
   "source": [
    " _Fotios Paschos, `@fpaschos` Sep, 2017_"
   ]
  }
 ],
 "metadata": {
  "kernelspec": {
   "display_name": "Scala 2.11",
   "language": "scala211",
   "name": "scala211"
  },
  "language_info": {
   "codemirror_mode": "text/x-scala",
   "file_extension": ".scala",
   "mimetype": "text/x-scala",
   "name": "scala211",
   "pygments_lexer": "scala",
   "version": "2.11.7"
  }
 },
 "nbformat": 4,
 "nbformat_minor": 1
}
