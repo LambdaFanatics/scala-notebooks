{
 "cells": [
  {
   "cell_type": "markdown",
   "metadata": {
    "collapsed": true
   },
   "source": [
    "## Scala a functional programming approach 2: Data Types\n",
    "\n",
    "\n",
    "#### Abstract\n",
    "\n",
    "This document is a efford to introduce the strengths and benefits of functional programming in scala.\n",
    "\n",
    "We do not claim intellectual property of all the material presented.\n",
    "We specifically refer to the original resources whenever is needed.\n",
    "\n",
    "The presentation path of the concepts is still under consideration and may be changed in future reviews.\n"
   ]
  },
  {
   "cell_type": "markdown",
   "metadata": {},
   "source": [
    "### Outline\n",
    "- Polymorphism\n",
    "- Parametric polymorphism\n",
    "- Pattern matching\n",
    "- Basic immutable collections\n",
    "- Basic ADTs \n",
    "\n"
   ]
  },
  {
   "cell_type": "code",
   "execution_count": null,
   "metadata": {
    "collapsed": false
   },
   "outputs": [],
   "source": [
    "// Parametric polymorphism\n",
    "\n",
    "// The trivial generic function id.\n",
    "def id[T](x: T): T = x\n",
    "\n",
    "id(1)\n",
    "id(\"2\")\n",
    "id(List(1,2,3))\n",
    "\n",
    "// The higher order function compose\n",
    "\n",
    "def compose[A,B,C] (g: B => C, f: A => B): A => C = (a: A) => g(f(a))\n",
    "\n",
    "def inc(x: Int): Int = x + 1\n",
    "def double(x: Int): Int = x * 2\n",
    "\n",
    "compose(inc,double)(1)\n",
    "compose(double,inc)(1)\n",
    "compose(double,double)(1)\n",
    "\n"
   ]
  },
  {
   "cell_type": "markdown",
   "metadata": {},
   "source": [
    "#### [Scala Immutable List](https://www.scala-lang.org/api/current/scala/collection/immutable/List.html)\n",
    "\n"
   ]
  },
  {
   "cell_type": "code",
   "execution_count": null,
   "metadata": {
    "collapsed": false
   },
   "outputs": [],
   "source": [
    "// Immutable List data type\n",
    "import scala.collection.immutable.List\n",
    "\n",
    "\n",
    "// Constructing lists\n",
    "val empty = List()\n",
    "val numbers = List(1,2,3)\n",
    "val moreNumbers: List[Int] = 4 :: 5 :: Nil\n",
    "\n",
    "// Operations\n",
    "val head = numbers.head\n",
    "val tail = numbers.tail\n",
    "val init = numbers.init\n",
    "val last = numbers.last\n",
    "val reverse = numbers.reverse\n",
    "\n",
    "\n",
    "//Append\n",
    "numbers ++ moreNumbers\n",
    "\n",
    "//Prepend element\n",
    "0 :: numbers // = numbers.::(0)\n",
    "0 +: numbers\n",
    "\n",
    "//Append element\n",
    "moreNumbers :+ 6\n",
    "\n",
    "//More operations\n",
    "try { empty.head } catch {case ex => ex} //Note try is an expression!!!"
   ]
  },
  {
   "cell_type": "markdown",
   "metadata": {},
   "source": [
    "#### Example:  Recreating the immutable list"
   ]
  },
  {
   "cell_type": "code",
   "execution_count": null,
   "metadata": {
    "collapsed": false
   },
   "outputs": [],
   "source": [
    "// Recreating immutable list\n",
    "\n",
    "sealed trait Lst[+A]\n",
    "case object Nil extends Lst[Nothing]\n",
    "case class Cons[A](head: A, tail: Lst[A]) extends Lst[A]\n",
    "\n",
    "\n",
    "val empty: Lst[Int] = Nil\n",
    "val numbers: Lst[Int] = Cons(1, Cons(2, Cons(3, Nil)))\n",
    "\n",
    "\n",
    "object Lst {\n",
    "\n",
    "  def apply[A](ss: A*): Lst[A] =      \n",
    "      if(ss.isEmpty) Nil\n",
    "      else Cons(ss.head, apply(ss.tail: _*))\n",
    "}\n",
    "\n",
    "Lst(1,2,3) //Now we can write"
   ]
  },
  {
   "cell_type": "markdown",
   "metadata": {},
   "source": [
    "#### Pattern matching"
   ]
  },
  {
   "cell_type": "code",
   "execution_count": null,
   "metadata": {
    "collapsed": false
   },
   "outputs": [],
   "source": [
    "def funnyMatch(l: Lst[String]): String =  l match {\n",
    "  case (Cons(x, Cons(\"2\", Cons(y, _)))) => x + y\n",
    "  case Nil => \"Nil\"\n",
    "  case Cons(\"1\", _) => \"Starting with 1\"\n",
    "  case _ => sys.error(\"Oops!!!\")\n",
    "}\n",
    "\n",
    "funnyMatch(Lst())\n",
    "\n",
    "funnyMatch(Lst(\"test \", \"2\", \"foo\"))\n",
    "\n",
    "funnyMatch(Lst(\"1\", \"2\"))\n",
    "\n",
    "// funnyMatch(Lst(\"2\", \"3\")) throws Opps!\n",
    "\n",
    "// funnyMatch(Lst(1,2)) type mismatch\n"
   ]
  },
  {
   "cell_type": "markdown",
   "metadata": {},
   "source": [
    "#### Implementing list operations"
   ]
  },
  {
   "cell_type": "code",
   "execution_count": null,
   "metadata": {
    "collapsed": false
   },
   "outputs": [],
   "source": [
    "sealed trait Lst[+A]\n",
    "case object Nil extends Lst[Nothing]\n",
    "case class Cons[A](head: A, tail: Lst[A]) extends Lst[A]\n",
    "\n",
    "object Lst {\n",
    "\n",
    "    def apply[A](ss: A*): Lst[A] =      \n",
    "      if(ss.isEmpty) Nil\n",
    "      else Cons(ss.head, apply(ss.tail: _*))\n",
    "      \n",
    "    def head[A](l: Lst[A]): A = l match {\n",
    "       case Nil => sys.error(\"Invoking head on empty list.\")\n",
    "       case Cons(a,_) => a\n",
    "    }\n",
    "    \n",
    "    def init[A](l: Lst[A]): Lst[A] = l match {\n",
    "      case Nil => sys.error(\"Invoking init on empty list\")\n",
    "      case Cons(_, Nil) => Nil\n",
    "      case Cons(h,t) => Cons(h, init(t))\n",
    "    }\n",
    "     \n",
    "    //Exersice 1: Implement tail, which returns the tail of non empty list.\n",
    "    //  def tail[A](l:Lst[A]): Lst[A] = ???  \n",
    "    \n",
    "    //Exersice 2: Implement setHead, which replaces the head of the list.\n",
    "    //  def setHead[A](l: Lst[A], head: A): Lst[A] = ???\n",
    "    \n",
    "    //Exersise 3: Implement drop, which drops the first n elements of the list.\n",
    "    //  def drop[A](l: Lst[A], n: Int): Lst[A] = ???\n",
    "    \n",
    "    //Exersise 4: Implement append, which appends the second list after the first.\n",
    "    //  def drop[A](a1: Lst[A], a2: Lst[A]): Lst[A] = ???\n",
    "}\n",
    "\n",
    "val list = Lst(\"1\",\"2\",\"3\") \n",
    "val singleList = Lst(\"1\")\n",
    "val emptyList = Lst[String]() // Nil\n",
    "\n",
    "Lst.head(list)\n",
    "try { Lst.head(emptyList) } catch { case x => x } \n",
    "Lst.init(list)\n",
    "Lst.init(singleList)\n",
    "try { Lst.init(emptyList) } catch { case x => x }"
   ]
  },
  {
   "cell_type": "markdown",
   "metadata": {},
   "source": [
    "#### Using our custom list"
   ]
  },
  {
   "cell_type": "code",
   "execution_count": null,
   "metadata": {
    "collapsed": false
   },
   "outputs": [],
   "source": [
    "//Find the sum of the list elements\n",
    "def sum(l: Lst[Int]): Int = l match {\n",
    "  case Nil => 0 \n",
    "  case Cons(h,t) => h + sum(t)\n",
    "}\n",
    "\n",
    "sum(Lst(1,2,3,4))\n",
    "\n",
    "//Find the product of the list elements\n",
    "def product(l: Lst[Int]): Int = l match {\n",
    "  case Nil => 1\n",
    "  case Cons(h,t) => h * sum(t)\n",
    "} \n",
    "\n",
    "product(Lst(1,2,3,4))\n",
    "\n"
   ]
  },
  {
   "cell_type": "markdown",
   "metadata": {},
   "source": [
    "### Resources\n",
    "\n",
    "- [Functional programming in scala](https://www.amazon.com/Functional-Programming-Scala-Paul Chiusano/dp/1617290653/ref=sr_1_1?ie=UTF8&qid=1504870248&sr=8-1&keywords=functional+programming+in+scala)"
   ]
  },
  {
   "cell_type": "markdown",
   "metadata": {},
   "source": [
    " _Fotios Paschos, `@fpaschos` Sep, 2017_"
   ]
  }
 ],
 "metadata": {
  "kernelspec": {
   "display_name": "Scala 2.11",
   "language": "scala211",
   "name": "scala211"
  },
  "language_info": {
   "codemirror_mode": "text/x-scala",
   "file_extension": ".scala",
   "mimetype": "text/x-scala",
   "name": "scala211",
   "pygments_lexer": "scala",
   "version": "2.11.7"
  }
 },
 "nbformat": 4,
 "nbformat_minor": 1
}
