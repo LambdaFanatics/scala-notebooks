{
 "cells": [
  {
   "cell_type": "markdown",
   "metadata": {
    "collapsed": true
   },
   "source": [
    "## Scala a functional programming approach 2: Data Types\n",
    "\n",
    "\n",
    "#### Abstract\n",
    "\n",
    "This document is a efford to introduce the strengths and benefits of functional programming in scala.\n",
    "\n",
    "We do not claim intellectual property of all the material presented.\n",
    "We specifically refer to the original resources whenever is needed.\n",
    "\n",
    "The presentation path of the concepts is still under consideration and may be changed in future reviews.\n"
   ]
  },
  {
   "cell_type": "markdown",
   "metadata": {},
   "source": [
    "### Outline\n",
    "This notebooks covers:\n",
    "- Parametric polymorphism\n",
    "- ADTs \n",
    "- Pattern matching\n",
    "- Basic immutable collections\n"
   ]
  },
  {
   "cell_type": "markdown",
   "metadata": {},
   "source": [
    "### Parametric Polymorphism\n",
    "\n",
    "Scala supports the concept of _parametric polymorphism_. This is __different from object oriented polymorphism__.\n",
    "\n",
    "Let's see an example of monomophic function and how we can convert it to polymorphic:"
   ]
  },
  {
   "cell_type": "code",
   "execution_count": null,
   "metadata": {
    "collapsed": false
   },
   "outputs": [],
   "source": [
    "// Monomorphic function \n",
    "// Find the first element of an array that matches the key\n",
    "def findIndex(key: String, ss: Array[String]): Int =  {\n",
    "\n",
    "  //Nested function executes a reccursion\n",
    "  def loop(n: Int): Int = \n",
    "    if (n >= ss.length) -1 \n",
    "    else if (ss(n) == key) n\n",
    "    else loop(n+1)\n",
    "  \n",
    "  //Start the loop\n",
    "  loop(0)\n",
    "}\n",
    "\n",
    "findIndex(\"c\",Array(\"a\", \"b\", \"c\", \"c\")) // \"c\" exists twice\n",
    "findIndex(\"d\",Array(\"a\", \"b\", \"c\", \"c\")) // \"d\" does not exists\n"
   ]
  },
  {
   "cell_type": "markdown",
   "metadata": {},
   "source": [
    "We can make the function polymorphic so it can be more general. \n",
    "That is it can find elements of `Array` of __any type `A`__ not just `Array[String]`."
   ]
  },
  {
   "cell_type": "code",
   "execution_count": null,
   "metadata": {
    "collapsed": false
   },
   "outputs": [],
   "source": [
    "def findIndex[A](p: A => Boolean, ss: Array[A]): Int =  {\n",
    "\n",
    "  //Nested function executes a reccursion\n",
    "  def loop(n: Int): Int = \n",
    "    if (n >= ss.length) -1 \n",
    "    else if (p(ss(n))) n\n",
    "    else loop(n+1)\n",
    "  \n",
    "  //Start the loop\n",
    "  loop(0)\n",
    "}\n",
    "\n",
    "findIndex((k: String) => k == \"b\", Array(\"a\", \"b\", \"c\", \"c\")) // works for string arrays \n",
    "\n",
    "findIndex((k: Int) => k == 100 , Array(1, 200, 100, 30)) // works for integer arrays\n",
    "\n",
    "findIndex((k: (String, Int)) => k == (\"foo\", 1), Array((\"bar\",4),(\"foo\",1))) // works for product types"
   ]
  },
  {
   "cell_type": "markdown",
   "metadata": {},
   "source": [
    "Some more examples of parametric polymorphism."
   ]
  },
  {
   "cell_type": "code",
   "execution_count": null,
   "metadata": {
    "collapsed": true
   },
   "outputs": [],
   "source": [
    "// Parametric polymorphism\n",
    "\n",
    "// The trivial generic function id.\n",
    "def id[T](x: T): T = x\n",
    "\n",
    "id(1)\n",
    "id(\"2\")\n",
    "id(List(1,2,3))\n",
    "\n",
    "// The higher order function compose\n",
    "\n",
    "def compose[A,B,C] (g: B => C, f: A => B): A => C = (a: A) => g(f(a))\n",
    "\n",
    "def andThen[A,B,C] (g: A => B, f: B => C): A => C = (a: A) => f(g(a))\n",
    "\n",
    "def inc(x: Int): Int = x + 1\n",
    "def double(x: Int): Int = x * 2\n",
    "\n",
    "compose(inc,double)(1)\n",
    "compose(double,inc)(1)\n",
    "compose(double,double)(1)\n",
    "\n",
    "compose(double,inc)(2) == andThen(inc,double)(2) "
   ]
  },
  {
   "cell_type": "markdown",
   "metadata": {},
   "source": [
    "> __Take away__\n",
    "\n",
    "> We are using _parametric polymorphism_ to implement general behaviours that apply to _families_ of types.\n",
    "> This programming mechanism promotes more general abstractions and code reusability. "
   ]
  },
  {
   "cell_type": "markdown",
   "metadata": {},
   "source": [
    "### Algebraic Data Types (ADTs)\n",
    "\n",
    "In the previous workshops we talked about __descriptions__ of programs and __interpreters__ of descriptions in order to deal with side effects.\n",
    "\n",
    "> The __descriptions__ in a functional languages are implemented through __data types__. These data types are forming algebras (under some theoretical conditions) so they are often called __Algebraic Data Types (ADTs)__.\n",
    "\n",
    "_Note: In the workshops that follow we will not concern ourselves with the mathematical point of view of the data types, but we will make use of their properties in an effort to give you some insight of their nature._ "
   ]
  },
  {
   "cell_type": "markdown",
   "metadata": {},
   "source": [
    "#### [Scala Option](http://www.scala-lang.org/api/2.12.3/scala/Option.html)\n",
    "We will begin our study with the standard library `Option` type.\n",
    "\n",
    "`Option` is generic type that __describes__ the side effect of a value or absence of a value"
   ]
  },
  {
   "cell_type": "code",
   "execution_count": null,
   "metadata": {
    "collapsed": false
   },
   "outputs": [],
   "source": [
    "def greeting(): Option[String] = Some(\"Hello!\")\n",
    "def absentGreeting(): Option[String] = None"
   ]
  },
  {
   "cell_type": "markdown",
   "metadata": {},
   "source": [
    "`Option` is a parametric data type.\n",
    "\n",
    "`Option` has __smart costructors__ which can be viewed as factories of data values."
   ]
  },
  {
   "cell_type": "code",
   "execution_count": null,
   "metadata": {
    "collapsed": false
   },
   "outputs": [],
   "source": [
    "Option(1)\n",
    "Option(null) // = None\n",
    "Option(\"foo\")\n",
    "Option(\"\")"
   ]
  },
  {
   "cell_type": "markdown",
   "metadata": {},
   "source": [
    "Option has an __get method__ that extracts the value"
   ]
  },
  {
   "cell_type": "code",
   "execution_count": null,
   "metadata": {
    "collapsed": false
   },
   "outputs": [],
   "source": [
    "Option(1).get\n",
    "// Option(null).get // This throws get is an UNSAFE OPERATION"
   ]
  },
  {
   "cell_type": "markdown",
   "metadata": {},
   "source": [
    "Option has many usefull operations such as:"
   ]
  },
  {
   "cell_type": "code",
   "execution_count": null,
   "metadata": {
    "collapsed": false
   },
   "outputs": [],
   "source": [
    "Option(\"foo\").filter(value => value == \"foo\" )\n",
    "Option(\"foo\").filter(value => value.length == 4)\n",
    "\n",
    "Option(\"foo\").exists( value => value == \"foo\")\n",
    "\n",
    "// foreach extracts the value of the option and executes a side effect.\n",
    "Option(3.14).foreach { x => print(x) } \n",
    "\n",
    "//DOES NOT EXECUTE (None is absent value so nothing to print)\n",
    "None.foreach { x => print(x)} "
   ]
  },
  {
   "cell_type": "markdown",
   "metadata": {},
   "source": [
    "So take a look at the [documentation ](http://www.scala-lang.org/api/2.12.3/scala/Option.htm)"
   ]
  },
  {
   "cell_type": "markdown",
   "metadata": {},
   "source": [
    "#### An example from the past"
   ]
  },
  {
   "cell_type": "code",
   "execution_count": null,
   "metadata": {
    "collapsed": false
   },
   "outputs": [],
   "source": [
    "case class Player(name: String, score: Int)\n",
    "\n",
    "//A method that finds players in a repository\n",
    "def fetchPlayerByName(name: String): Option[Player] = { //This repository has two players\n",
    "  if(name == \"fpas\") \n",
    "    Some(Player(\"fpas\", 10))\n",
    "  else if (name == \"gsmyrn\")\n",
    "    Some(Player(\"gsmyrn\", 5))\n",
    "  else\n",
    "    None\n",
    "}\n",
    "\n",
    "fetchPlayerByName(\"fpas\")\n",
    "fetchPlayerByName(\"gsmyrn\")\n",
    "fetchPlayerByName(\"gpapag\")"
   ]
  },
  {
   "cell_type": "markdown",
   "metadata": {},
   "source": [
    "Option has a __map__ method"
   ]
  },
  {
   "cell_type": "code",
   "execution_count": null,
   "metadata": {
    "collapsed": false
   },
   "outputs": [],
   "source": [
    "val p1 = fetchPlayerByName(\"fpas\")\n",
    "  .map( p => p.copy(name = p.name.toUpperCase) )    //capitalize name\n",
    "  .map( p => p.copy(score = p.score -1 ) )          //Decrease the score by one\n",
    "  \n",
    "  \n",
    "fetchPlayerByName(\"non Existing player\")\n",
    "  .map( p => p.copy(name = p.name.toUpperCase) )    //capitalize name\n",
    "  .map( p => p.copy(score = p.score -1 ) )          //Decrease the score by one\n",
    "    \n",
    "    \n",
    "//Same example refactored\n",
    "def capitalize(p: Player): Player = p.copy(name = p.name.toUpperCase)\n",
    "\n",
    "def decreaseScore(p: Player): Player = p.copy(score =(p.score - 1) )\n",
    "\n",
    "val p11 = fetchPlayerByName(\"fpas\")\n",
    "  .map( p => capitalize(p) )               //capitalize name\n",
    "  .map( p => decreaseScore(p) )            //Decrease the score by one\n",
    "\n",
    "p1 == p11\n",
    "p11.foreach( p => print(p))  //Just printing"
   ]
  },
  {
   "cell_type": "markdown",
   "metadata": {},
   "source": [
    " Map for option has a signature\n",
    " \n",
    " `def map[A,B](option: Option[A], f: A => B): Option[B]`\n",
    " \n",
    " > Map method accepts an option and __transforms its internals__ without altering the structure of the type."
   ]
  },
  {
   "cell_type": "markdown",
   "metadata": {},
   "source": [
    "#### Study case: Recreating a (minimal) Option ATD\n",
    "\n",
    "Let's recreate `Option` type as an exersice.\n",
    "\n",
    "> __This is idiomatic scala so take a deep breath and relax !__"
   ]
  },
  {
   "cell_type": "code",
   "execution_count": null,
   "metadata": {
    "collapsed": false
   },
   "outputs": [],
   "source": [
    "sealed trait Opt[+A]\n",
    "case object None extends Opt[Nothing]\n",
    "case class Some[A](value: A) extends Opt[A]\n",
    "\n",
    "object Opt {\n",
    "  //Smart constructor\n",
    "  def apply[A](value: A): Opt[A] = if (value == null) None else Some(value) \n",
    "}\n",
    "\n",
    "// Now we can write\n",
    "Opt(1)\n",
    "Opt(null)\n",
    "Some(1)\n",
    "Some(1).value \n",
    "\n",
    "// Opt(1).value  //Does not compile\n",
    "// None.value //Does not compile\n"
   ]
  },
  {
   "cell_type": "markdown",
   "metadata": {},
   "source": [
    "We have defined a new data type. We can create values of it. But how can we use it ?\n",
    "\n",
    "Let's talk a little bit about __pattern matching__ an extremely usefull construct in functional programming."
   ]
  },
  {
   "cell_type": "markdown",
   "metadata": {},
   "source": [
    "#### Pattern matching with `Opt`\n",
    "\n",
    "Pattern matching is the way of scala __to inspect the structure__ of hierarchical types such as `Opt`.\n",
    "\n",
    "In some way substitutes the `instanceOf` of java __BUT IT IS NOT THE SAME__."
   ]
  },
  {
   "cell_type": "code",
   "execution_count": null,
   "metadata": {
    "collapsed": false
   },
   "outputs": [],
   "source": [
    "// An example of opt\n",
    "val maybeInt = Opt(1)\n",
    " \n",
    "//Pattern matching\n",
    "maybeInt match {\n",
    "  case Some(a) => println(\"The internal value of option is \" + a)\n",
    "  case None => println(\"Option is empty\")\n",
    "}"
   ]
  },
  {
   "cell_type": "code",
   "execution_count": null,
   "metadata": {
    "collapsed": false
   },
   "outputs": [],
   "source": [
    "//Let's make it a generic function \n",
    "def inspect[A](opt: Opt[A]): Unit = opt match {\n",
    "  case Some(a) => println(\"The internal value of option is \" + a)\n",
    "  case None => println(\"Option is empty\")\n",
    "}\n",
    "\n",
    "inspect(Opt(1))\n",
    "inspect(Opt(null))\n",
    "inspect(Opt(\"works with strings\"))\n",
    "inspect(Opt(List(1,2,3)))"
   ]
  },
  {
   "cell_type": "markdown",
   "metadata": {},
   "source": [
    "Extending `Opt` to support __isEmpty__ using pattern matching."
   ]
  },
  {
   "cell_type": "code",
   "execution_count": null,
   "metadata": {
    "collapsed": false
   },
   "outputs": [],
   "source": [
    "sealed trait Opt[+A]\n",
    "case object None extends Opt[Nothing]\n",
    "case class Some[+A](value: A) extends Opt[A]\n",
    "\n",
    "\n",
    "object Opt {\n",
    "  //Smart constructor\n",
    "  def apply[A](value: A): Opt[A] = if (value == null) None else Some(value) \n",
    "  \n",
    "  def isEmpty[A](value: Opt[A]): Boolean = value match {\n",
    "    case Some(a) => false   \n",
    "    case _ => true     //case _ means everything else \n",
    "  }\n",
    "}\n",
    "\n",
    "// Now we can write\n",
    "Opt.isEmpty(Opt(1))\n",
    "Opt.isEmpty(Opt(null))\n",
    "Opt.isEmpty(Some(\"foo\"))\n",
    "\n",
    "//Or like this  (IGNORE locally its a scala-notebook thingy)\n",
    "locally {\n",
    "\n",
    "  import Opt._\n",
    "  \n",
    "  isEmpty(Opt(1))\n",
    "  isEmpty(Opt(null))\n",
    "  isEmpty(Some(\"foo\"))\n",
    "  isEmpty(Opt(List(\"this\", \"is\", \"a\", \"list\", \"of\", \"strings\")))\n",
    "}"
   ]
  },
  {
   "cell_type": "markdown",
   "metadata": {},
   "source": [
    "__Exercise 1__: Implement function __map__ , which changing the internal type of an option but preserves its structure.  \n",
    "\n"
   ]
  },
  {
   "cell_type": "code",
   "execution_count": null,
   "metadata": {
    "collapsed": false
   },
   "outputs": [],
   "source": [
    "sealed trait Opt[+A]\n",
    "case object None extends Opt[Nothing]\n",
    "case class Some[+A](value: A) extends Opt[A]\n",
    "\n",
    "\n",
    "object Opt {\n",
    "  //Smart constructor\n",
    "  def apply[A](value: A): Opt[A] = if (value == null) None else Some(value) \n",
    "  \n",
    "  def isEmpty[A](value: Opt[A]): Boolean = value match {\n",
    "    case Some(a) => true   \n",
    "    case _ => false//case _ means everything else \n",
    "  }\n",
    "  \n",
    "  \n",
    "//   def map[A,B](opt: Opt[A], f: A => B): Opt[B] =  ???\n",
    "  def map[A,B](opt: Opt[A], f: A => B): Opt[B] = opt match {\n",
    "    case Some(a) => Some(f(a))\n",
    "    case None => None\n",
    "  }\n",
    "}\n",
    "\n",
    "locally {\n",
    "  import Opt._\n",
    "\n",
    "//   map(Opt(null), (x: Int) => x + 1)\n",
    "  map(None, (x: Int) => x + 1)\n",
    "  map(Opt(1), (x: Int) => x + 1) // Test with integers\n",
    "  map(Opt(\"fotis\"), (x: String) => x.toUpperCase) // Test with strings\n",
    "\n",
    "  case class Player(name: String, score: Int) // Test with product\n",
    "  map(Opt(Player(\"fpas\",1)), (p: Player) => p.copy(score = p.score + 1))\n",
    "}"
   ]
  },
  {
   "cell_type": "markdown",
   "metadata": {},
   "source": [
    "__Exercise 2__: Implement \n",
    "\n",
    "__filter__ which keeps the element of an option if a given predicate holds,\n",
    "\n",
    "__exists__ which tests if a given predicate holds for the option,\n",
    "\n",
    "__foreach__ which executes a side effect using the value of an option (if any) \n",
    "\n",
    "_Hint_: For _filter_ and _exists_ use a case clause with a predicate if expression. ( `case  ... if ...  => ...` )"
   ]
  },
  {
   "cell_type": "code",
   "execution_count": null,
   "metadata": {
    "collapsed": false
   },
   "outputs": [],
   "source": [
    "sealed trait Opt[+A]\n",
    "case object None extends Opt[Nothing]\n",
    "case class Some[+A](value: A) extends Opt[A]\n",
    "\n",
    "\n",
    "object Opt {\n",
    "  //Smart constructor\n",
    "  def apply[A](value: A): Opt[A] = if (value == null) None else Some(value) \n",
    "  \n",
    "  def isEmpty[A](value: Opt[A]): Boolean = value match {\n",
    "    case Some(a) => true   \n",
    "    case _ => false  //case _ means everything else \n",
    "  }\n",
    "  \n",
    "//   def filter[A](opt: Opt[A], p: A => Boolean): Opt[A] = ???\n",
    "  def filter[A](opt: Opt[A], p: A => Boolean): Opt[A] = opt match {\n",
    "    case Some(a) if p(a) => opt\n",
    "    case _ => None\n",
    "  }\n",
    "  \n",
    "//   def exists[A](opt: Opt[A], p: A => Boolean): Boolean =  ???\n",
    "  def exists[A](opt: Opt[A], p: A => Boolean): Boolean = opt match {\n",
    "    case Some(a) => p(a)\n",
    "    case None => false\n",
    "  }\n",
    " \n",
    "//   def foreach[A, B](opt: Opt[A], f: A => Unit ): Unit = ???\n",
    "  def foreach[A, B](opt: Opt[A], f: A => Unit ): Unit = opt match {\n",
    "    case Some(a) => f(a)\n",
    "    case _ => ()\n",
    "  }\n",
    "}\n",
    "\n",
    "locally {\n",
    "  import Opt._\n",
    "\n",
    "  filter(Opt(1), (v: Int) => v == 1)\n",
    "  filter(Opt(1), (v: Int) => v < 0 )\n",
    "  \n",
    "  exists(Opt(\"Fotis\"), (v: String) => v == \"George\")\n",
    "  exists(Opt(\"Fotis\"), (v: String) => v == \"Fotis\")\n",
    "  \n",
    "  foreach(Opt(\"Fotis\"), println _ )\n",
    "  foreach(None, println _ ) // Should not execute\n",
    "}"
   ]
  },
  {
   "cell_type": "markdown",
   "metadata": {},
   "source": [
    "#### [Scala Immutable List](https://www.scala-lang.org/api/current/scala/collection/immutable/List.html)\n",
    "\n",
    "Scala predef (standard) library provides more types for all types of side effects.\n",
    "Let's consider the case of a `List`.\n",
    "\n",
    "List is a generic type that __describes__ the side effect of iteration (a.k.a having meny repeatable ordered elements of some type).\n",
    "\n"
   ]
  },
  {
   "cell_type": "code",
   "execution_count": null,
   "metadata": {
    "collapsed": false
   },
   "outputs": [],
   "source": [
    "// Immutable List data type\n",
    "import scala.collection.immutable.List\n",
    "\n",
    "\n",
    "// Constructing lists\n",
    "val empty = List()\n",
    "val numbers = List(1,2,3)\n",
    "val moreNumbers: List[Int] = 4 :: 5 :: Nil\n",
    "\n",
    "// Operations\n",
    "val head = numbers.head\n",
    "val tail = numbers.tail\n",
    "val init = numbers.init\n",
    "val last = numbers.last\n",
    "val reverse = numbers.reverse\n",
    "\n",
    "\n",
    "val filtered = numbers.filter(x =>  x < 3)\n",
    "val existsNumberOne = numbers.exists(x => x == 1)\n",
    "val mappedList = numbers.map( x => x + 1 )\n",
    "\n",
    "// Append\n",
    "numbers ++ moreNumbers\n",
    "\n",
    "// Prepend element\n",
    "0 :: numbers // = numbers.::(0)\n",
    "0 +: numbers\n",
    "\n",
    "// Append element\n",
    "moreNumbers :+ 6\n",
    "\n",
    "// More operations\n",
    "try { empty.head } catch {case ex => ex} //Note try is an expression!!!\n",
    "\n",
    "// Also foreach\n",
    "numbers.foreach(print _)\n"
   ]
  },
  {
   "cell_type": "markdown",
   "metadata": {},
   "source": [
    "#### Study case:  Recreating a (minimal) immutable list type\n",
    "\n",
    "Let's again try to re implement some of the lists functionality.\n"
   ]
  },
  {
   "cell_type": "code",
   "execution_count": null,
   "metadata": {
    "collapsed": false
   },
   "outputs": [],
   "source": [
    "// Recreating immutable list\n",
    "sealed trait Lst[+A]\n",
    "case object Nil extends Lst[Nothing]\n",
    "case class Cons[+A](head: A, tail: Lst[A]) extends Lst[A]\n",
    "\n",
    "\n",
    "val empty: Lst[Int] = Nil\n",
    "val numbers: Lst[Int] = Cons(1, Cons(2, Cons(3, Nil)))\n",
    "\n",
    "\n",
    "object Lst {\n",
    "\n",
    "  def apply[A](ss: A*): Lst[A] =      \n",
    "      if(ss.isEmpty) Nil\n",
    "      else Cons(ss.head, apply(ss.tail: _*))\n",
    "}\n",
    "\n",
    "Lst(1,2,3) //Now we can write"
   ]
  },
  {
   "cell_type": "markdown",
   "metadata": {},
   "source": [
    "Before we continue note that List is has a __recursive type declaration__, that is the `Cons[A]` type constractor refers to `Lst[A]` recursively.\n",
    "\n",
    "Also note the `numbers` instance is a value of `Cons(1,Cons(2,Cons(3,Nil)))`\n",
    "\n",
    "> That representation of the data structure represents a __ Linked List __\n",
    ">\n",
    "> Each node (__head__) has a payload `A` and refers (points) to the next node that contains the rest (__tail__) of the list."
   ]
  },
  {
   "cell_type": "markdown",
   "metadata": {},
   "source": [
    "#### Pattern matching\n",
    "\n",
    "Let's review pattern matching on lists."
   ]
  },
  {
   "cell_type": "code",
   "execution_count": null,
   "metadata": {
    "collapsed": false
   },
   "outputs": [],
   "source": [
    "def funnyMatch(l: Lst[String]): String =  l match {\n",
    "  case (Cons(x, Cons(\"2\", Cons(y, _)))) => x + y\n",
    "  case Nil => \"Nil\"\n",
    "  case Cons(\"1\", _) => \"Starting with 1\"\n",
    "  case _ => sys.error(\"Oops!!!\")\n",
    "}\n",
    "\n",
    "funnyMatch(Lst())\n",
    "\n",
    "funnyMatch(Lst(\"test \", \"2\", \"foo\"))\n",
    "\n",
    "funnyMatch(Lst(\"1\", \"2\"))\n",
    "\n",
    "// funnyMatch(Lst(\"2\", \"3\")) throws Opps!\n",
    "\n",
    "// funnyMatch(Lst(1,2)) type mismatch\n"
   ]
  },
  {
   "cell_type": "markdown",
   "metadata": {},
   "source": [
    "#### Implementing list operations\n",
    "\n",
    "Let's continue by implementing __head__ which returns the first element of the list.\n"
   ]
  },
  {
   "cell_type": "code",
   "execution_count": null,
   "metadata": {
    "collapsed": false
   },
   "outputs": [],
   "source": [
    "sealed trait Lst[+A]\n",
    "case object Nil extends Lst[Nothing]\n",
    "case class Cons[+A](head: A, tail: Lst[A]) extends Lst[A]\n",
    "\n",
    "object Lst {\n",
    "\n",
    "    def apply[A](ss: A*): Lst[A] =      \n",
    "      if(ss.isEmpty) Nil\n",
    "      else Cons(ss.head, apply(ss.tail: _*))\n",
    "      \n",
    "    def head[A](l: Lst[A]): A = l match {\n",
    "       case Nil => sys.error(\"Invoking head on empty list.\")\n",
    "       case Cons(a,_) => a\n",
    "    }\n",
    "}\n",
    "\n",
    "val list = Lst(\"1\",\"2\",\"3\") \n",
    "val emptyList = Lst[String]() // Nil\n",
    "\n",
    "Lst.head(list)\n",
    "try { Lst.head(emptyList) } catch { case a: Throwable => a } "
   ]
  },
  {
   "cell_type": "markdown",
   "metadata": {},
   "source": [
    "__Exercise 3__:\n",
    "\n",
    "Implement __tail__, which returns the tail of non empty list.\n",
    "\n",
    "Implement __setHead__, which replaces the head of the list.\n",
    "\n",
    "Implement __drop__, which drops the first n elements of the list.\n",
    "\n",
    "Implement __append__, which appends the second list after the first.\n",
    "\n"
   ]
  },
  {
   "cell_type": "code",
   "execution_count": null,
   "metadata": {
    "collapsed": false
   },
   "outputs": [],
   "source": [
    "sealed trait Lst[+A]\n",
    "case object Nil extends Lst[Nothing]\n",
    "case class Cons[+A](head: A, tail: Lst[A]) extends Lst[A]\n",
    "\n",
    "object Lst {\n",
    "\n",
    "    def apply[A](ss: A*): Lst[A] =      \n",
    "      if(ss.isEmpty) Nil\n",
    "      else Cons(ss.head, apply(ss.tail: _*))\n",
    "      \n",
    "    def head[A](l: Lst[A]): A = l match {\n",
    "       case Nil => sys.error(\"Invoking head on empty list.\")\n",
    "       case Cons(a,_) => a\n",
    "    }\n",
    "    \n",
    "     def tail[A](l:Lst[A]): Lst[A] = ???  \n",
    "    \n",
    "     def setHead[A](l: Lst[A], head: A): Lst[A] = ???\n",
    "    \n",
    "     def drop[A](l: Lst[A], n: Int): Lst[A] = ???\n",
    "    \n",
    "     def drop[A](a1: Lst[A], a2: Lst[A]): Lst[A] = ???\n",
    "}"
   ]
  },
  {
   "cell_type": "markdown",
   "metadata": {},
   "source": [
    "__Exercise 4__: Implement __init__ which returns the first elements of a list without the last one.\n",
    "\n",
    "_Note: Do you see something disturbing with your implementation?_ "
   ]
  },
  {
   "cell_type": "code",
   "execution_count": null,
   "metadata": {
    "collapsed": false
   },
   "outputs": [],
   "source": [
    "sealed trait Lst[+A]\n",
    "case object Nil extends Lst[Nothing]\n",
    "case class Cons[+A](head: A, tail: Lst[A]) extends Lst[A]\n",
    "\n",
    "object Lst {\n",
    "\n",
    "    def apply[A](ss: A*): Lst[A] =      \n",
    "      if(ss.isEmpty) Nil\n",
    "      else Cons(ss.head, apply(ss.tail: _*))\n",
    "      \n",
    "    def head[A](l: Lst[A]): A = l match {\n",
    "       case Nil => sys.error(\"Invoking head on empty list.\")\n",
    "       case Cons(a,_) => a\n",
    "    }\n",
    "    \n",
    "    \n",
    "//     def init[A](l: Lst[A]): Lst[A] = ???\n",
    "    def init[A](l: Lst[A]): Lst[A] = l match {\n",
    "      case Nil => sys.error(\"Invoking init on empty list\")\n",
    "      case Cons(_, Nil) => Nil\n",
    "      case Cons(h,t) => Cons(h, init(t))\n",
    "    }\n",
    "    \n",
    "    \n",
    "//     def  init[A](l: Lst[A]): Lst[A] = {\n",
    "//       import collection.mutable.ListBuffer\n",
    "//       val buf = new ListBuffer[A]\n",
    "      \n",
    "//       def go(cur: Lst[A]): Lst[A] = cur match {\n",
    "//         case Nil => sys.error(\"Invoking init on empty list\")\n",
    "//         case Cons(_, Nil) => Lst(buf.toList: _*)\n",
    "//         case Cons(h,t) => buf += h; go(t)\n",
    "//       }\n",
    "//       go(l)\n",
    "//     }\n",
    "  \n",
    "}\n",
    "\n",
    "val list = Lst(\"1\",\"2\",\"3\") \n",
    "val singleList = Lst(\"10\")\n",
    "val emptyList = Lst[String]() // Nil\n",
    "\n",
    "Lst.init(list)\n",
    "Lst.init(singleList)\n",
    "try { Lst.init(emptyList) } catch { case x => x } "
   ]
  },
  {
   "cell_type": "markdown",
   "metadata": {},
   "source": [
    "#### Using our list for aggregations\n",
    "\n",
    "Before we continue let's try and use our list so far by producing some aggregate values using our list."
   ]
  },
  {
   "cell_type": "code",
   "execution_count": null,
   "metadata": {
    "collapsed": false
   },
   "outputs": [],
   "source": [
    "//Find the sum of the list elements\n",
    "def sum(l: Lst[Int]): Int = l match {\n",
    "  case Nil => 0 \n",
    "  case Cons(h,t) => h + sum(t)\n",
    "}\n",
    "\n",
    "sum(Lst(1,2,3,4))\n",
    "\n",
    "//Find the product of the list elements\n",
    "def product(l: Lst[Int]): Int = l match {\n",
    "  case Nil => 1\n",
    "  case Cons(h,t) => h * sum(t)\n",
    "} \n",
    "\n",
    "product(Lst(1,2,3,4))"
   ]
  },
  {
   "cell_type": "markdown",
   "metadata": {},
   "source": [
    "Do you see the code duplication? \n",
    "\n",
    "How can we make that more abstract ?\n",
    "\n",
    "#### Introducing folds"
   ]
  },
  {
   "cell_type": "code",
   "execution_count": null,
   "metadata": {
    "collapsed": false
   },
   "outputs": [],
   "source": [
    "sealed trait Lst[+A]\n",
    "case object Nil extends Lst[Nothing]\n",
    "case class Cons[+A](head: A, tail: Lst[A]) extends Lst[A]\n",
    "\n",
    "object Lst {\n",
    "\n",
    "    def apply[A](ss: A*): Lst[A] =      \n",
    "      if(ss.isEmpty) Nil\n",
    "      else Cons(ss.head, apply(ss.tail: _*))\n",
    "      \n",
    "    def head[A](l: Lst[A]): A = l match {\n",
    "       case Nil => sys.error(\"Invoking head on empty list.\")\n",
    "       case Cons(a,_) => a\n",
    "    }\n",
    "    \n",
    "    \n",
    "    // Collapses the list to one value using a initial element and a binary operation. \n",
    "    // This is done from rigth to left (from the last element to the first)\n",
    "    def foldRight[A,B](l: Lst[A], z: B)(f: (A,B) => B): B = l match {\n",
    "      case Nil => z\n",
    "      case Cons(x, xs) => f(x, foldRight(xs,z)(f))\n",
    "    }\n",
    "    \n",
    "    // This is the tail recursive version of the operation above ( it is not always the same why?)\n",
    "    // Collapses the list to one value using a initial element and a binary operation. \n",
    "    // This is done from rigth to left (from the last element to the first)\n",
    "    @annotation.tailrec\n",
    "    def foldLeft[A,B](l: Lst[A], z: B)(f: (B, A) => B): B = l match {\n",
    "      case Nil => z\n",
    "      case Cons(h,t) => foldLeft(t, f(z,h))(f)\n",
    "    }\n",
    "}\n",
    "\n",
    "\n",
    "//Reimplement sum and product using foldRight\n",
    "def sum(l: Lst[Int]): Int = Lst.foldRight(l, 0)((x,y) =>  x + y)\n",
    "\n",
    "sum(Lst(1,2,3,4))\n",
    "\n",
    "//Find the product of the list elements\n",
    "def product(l: Lst[Int]): Int = Lst.foldRight(l, 1)(_ * _)\n",
    "\n",
    "product(Lst(1,2,3,4))\n",
    "\n",
    "//Reimplement sum and product using foldLeft\n",
    "def sum1(l: Lst[Int]): Int = Lst.foldLeft(l, 0)((x,y) =>  x + y)\n",
    "\n",
    "sum1(Lst(1,2,3,4))\n",
    "\n",
    "//Find the product of the list elements\n",
    "def product1(l: Lst[Int]): Int = Lst.foldLeft(l, 1)(_ * _)\n",
    "\n",
    "product1(Lst(1,2,3,4))"
   ]
  },
  {
   "cell_type": "markdown",
   "metadata": {},
   "source": [
    "__Exercise 6__: Implement function __map__ , which changing the internal type of a list but preserves its structure.\n",
    "\n",
    "_Hint: You can use the foldLeft don't reinvent the wheel_"
   ]
  },
  {
   "cell_type": "code",
   "execution_count": null,
   "metadata": {
    "collapsed": false
   },
   "outputs": [],
   "source": [
    "sealed trait Lst[+A]\n",
    "case object Nil extends Lst[Nothing]\n",
    "case class Cons[+A](head: A, tail: Lst[A]) extends Lst[A]\n",
    "\n",
    "object Lst {\n",
    "\n",
    "    def apply[A](ss: A*): Lst[A] =      \n",
    "      if(ss.isEmpty) Nil\n",
    "      else Cons(ss.head, apply(ss.tail: _*))\n",
    "      \n",
    "    def head[A](l: Lst[A]): A = l match {\n",
    "       case Nil => sys.error(\"Invoking head on empty list.\")\n",
    "       case Cons(a,_) => a\n",
    "    }\n",
    "    \n",
    "    // Collapses the list to one value using a initial element and a binary operation. \n",
    "    // This is done from rigth to left (from the last element to the first)\n",
    "    def foldRight[A,B](l: Lst[A], z: B)(f: (A,B) => B): B = l match {\n",
    "      case Nil => z\n",
    "      case Cons(x, xs) => f(x, foldRight(xs,z)(f))\n",
    "    }\n",
    "    \n",
    "    // This is the tail recursive version of the operation above ( it is not always the same why?)\n",
    "    // Collapses the list to one value using a initial element and a binary operation. \n",
    "    // This is done from rigth to left (from the last element to the first)\n",
    "    @annotation.tailrec\n",
    "    def foldLeft[A,B](l: Lst[A], z: B)(f: (B, A) => B): B = l match {\n",
    "      case Nil => z\n",
    "      case Cons(h,t) => foldLeft(t, f(z,h))(f)\n",
    "    }\n",
    "    \n",
    "//     def map[A,B](l: Lst[A], f: A => B): Lst[B] = ???\n",
    "    \n",
    "//     def map[A,B](l: Lst[A], f: A => B): Lst[B] = l match {\n",
    "//       case Nil => Nil\n",
    "//       case Cons(h, t) => Cons(f(h), map(t,f))\n",
    "//     }\n",
    "\n",
    "   def map[A,B](l: Lst[A], f: A => B): Lst[B] = foldRight(l, Nil:Lst[B])((h,t) => Cons(f(h),t))\n",
    "}\n",
    "val list = Lst(1,2,3)\n",
    "Lst.map(list, (i: Int) => i.toString)\n",
    "Lst.map(list, (i: Int) => i + 1)\n"
   ]
  },
  {
   "cell_type": "markdown",
   "metadata": {},
   "source": [
    "### Conclusion\n",
    "\n",
    "- Data types are the way of __describing__ how programs work in functional languages.\n",
    "- Side effects are __described__ via data types too like `Option` and `List`.\n",
    "- Data types in scala are forming an algebra of types and often are called __ADTs__.\n",
    "- Parametric polymorphic functions are the means of __abstracting__ and they provide __general__  behaviours for our types (descriptions)\n",
    "- __Do not reinvent the wheel__ mentally and programmatically, all the above constructs (and much more) are available in existing libraries. \n",
    "- __Read, Read , Read and experiment. The path to ascension is closer than you think...__"
   ]
  },
  {
   "cell_type": "markdown",
   "metadata": {},
   "source": [
    "### Resources\n",
    "\n",
    "- [Functional programming in scala](https://www.amazon.com/Functional-Programming-Scala-Paul Chiusano/dp/1617290653/ref=sr_1_1?ie=UTF8&qid=1504870248&sr=8-1&keywords=functional+programming+in+scala)"
   ]
  },
  {
   "cell_type": "markdown",
   "metadata": {},
   "source": [
    " _Fotios Paschos, `@fpaschos` Oct, 2017_"
   ]
  }
 ],
 "metadata": {
  "kernelspec": {
   "display_name": "Scala 2.11",
   "language": "scala211",
   "name": "scala211"
  },
  "language_info": {
   "codemirror_mode": "text/x-scala",
   "file_extension": ".scala",
   "mimetype": "text/x-scala",
   "name": "scala211",
   "pygments_lexer": "scala",
   "version": "2.11.7"
  }
 },
 "nbformat": 4,
 "nbformat_minor": 1
}
