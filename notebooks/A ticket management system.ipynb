{
 "cells": [
  {
   "cell_type": "code",
   "execution_count": 2,
   "metadata": {
    "collapsed": false
   },
   "outputs": [
    {
     "data": {
      "text/plain": [
       "defined \u001b[32mobject \u001b[36mmodel\u001b[0m"
      ]
     },
     "metadata": {},
     "output_type": "display_data"
    }
   ],
   "source": [
    "//Model as an ADT\n",
    "object model {\n",
    "  case class ProcessComponent(desc: String)\n",
    "\n",
    "  type Process = Seq[ProcessComponent]\n",
    "  val emptyProcess = Seq.empty[ProcessComponent]\n",
    "  \n",
    "  \n",
    "  sealed trait TicketStatus\n",
    "  case object Open extends TicketStatus\n",
    "  case object InProgress extends TicketStatus\n",
    "  case object Closed extends TicketStatus\n",
    "  \n",
    "  //Aggregate root\n",
    "  case class Ticket(no:String, status: TicketStatus, desc: String, process: Process)\n",
    "}"
   ]
  },
  {
   "cell_type": "markdown",
   "metadata": {},
   "source": [
    "Simple domain service"
   ]
  },
  {
   "cell_type": "code",
   "execution_count": 3,
   "metadata": {
    "collapsed": false
   },
   "outputs": [
    {
     "data": {
      "text/plain": [
       "\u001b[32mimport \u001b[36mmodel._\u001b[0m\n",
       "defined \u001b[32mobject \u001b[36mservices\u001b[0m\n",
       "\u001b[36mTS\u001b[0m: \u001b[32m$user\u001b[0m.\u001b[32mservices\u001b[0m.\u001b[32mTicketService\u001b[0m.type = cmd2$$user$services$TicketService$@6abc2e5c\n",
       "\u001b[36mres2_3\u001b[0m: \u001b[32mmodel\u001b[0m.\u001b[32mTicket\u001b[0m = Ticket(t1,Open,First ticket,List())\n",
       "\u001b[36mres2_4\u001b[0m: \u001b[32mmodel\u001b[0m.\u001b[32mTicket\u001b[0m = Ticket(t2,Open,Second ticket,List())\n",
       "\u001b[36mres2_5\u001b[0m: \u001b[32mmodel\u001b[0m.\u001b[32mTicket\u001b[0m = Ticket(t3,Open,Second ticket,List())"
      ]
     },
     "metadata": {},
     "output_type": "display_data"
    }
   ],
   "source": [
    "import model._\n",
    "//Let's define a service that describes our algebra\n",
    "object services {\n",
    "  trait TicketService[Ticket, TicketStatus, Process] {\n",
    "    def open(no: String, desc: String, process: Process): Ticket\n",
    "    def changeStatus(no: String, status: TicketStatus): Ticket \n",
    "    def changeDescription(no: String, descr: String): Ticket \n",
    "    def close(no: String): Ticket\n",
    "  }\n",
    "  \n",
    "  //Concrete implementation\n",
    "  object TicketService extends TicketService[Ticket, TicketStatus, Process] {\n",
    "  \n",
    "    def open(no: String, desc: String, process: Process): Ticket \n",
    "      = Ticket(no, Open, desc, process)\n",
    "      \n",
    "    def changeStatus(no: String, status: TicketStatus): Ticket = ???\n",
    "   \n",
    "    def changeDescription(no: String, descr: String): Ticket = ???\n",
    "   \n",
    "    def close(no: String): Ticket = ???\n",
    "  }\n",
    "  \n",
    "}\n",
    "\n",
    "\n",
    "\n",
    "//Sample of use\n",
    "val TS = services.TicketService\n",
    "TS.open(\"t1\", \"First ticket\", model.emptyProcess )\n",
    "TS.open(\"t2\", \"Second ticket\", model.emptyProcess )\n",
    "TS.open(\"t3\", \"Second ticket\", model.emptyProcess )"
   ]
  },
  {
   "cell_type": "markdown",
   "metadata": {},
   "source": [
    "Define a domain repository \n",
    "* Repository may fail\n",
    "* Tickets may not exist"
   ]
  },
  {
   "cell_type": "code",
   "execution_count": 5,
   "metadata": {
    "collapsed": false
   },
   "outputs": [
    {
     "data": {
      "text/plain": [
       "\u001b[32mimport \u001b[36mscala.util.{Try, Success, Failure}\u001b[0m\n",
       "\u001b[32mimport \u001b[36mcollection.mutable.{ Map => MMap }\u001b[0m\n",
       "defined \u001b[32mobject \u001b[36mrepos\u001b[0m"
      ]
     },
     "metadata": {},
     "output_type": "display_data"
    }
   ],
   "source": [
    "import scala.util.{Try, Success, Failure}\n",
    "import collection.mutable.{ Map => MMap }\n",
    "\n",
    "\n",
    "object repos {\n",
    "\n",
    "  trait TicketRepository {\n",
    "    def query(): Try[Seq[Ticket]]\n",
    "    def query(no:String): Try[Option[Ticket]]\n",
    "    def store(t: Ticket): Try[Ticket]\n",
    "  }\n",
    "  \n",
    "  \n",
    "  \n",
    "  trait InMemoryTicketRepository extends TicketRepository {\n",
    "    lazy val repo = MMap.empty[String, Ticket]\n",
    "    def query(): Try[Seq[Ticket]] = Success(repo.values.toSeq)\n",
    "    \n",
    "    def query(no: String): Try[Option[Ticket]] = Success(repo.get(no))\n",
    "    \n",
    "    def store(a: Ticket): Try[Ticket] = {\n",
    "      val r = repo += ((a.no, a))\n",
    "      Success(a)\n",
    "    }\n",
    "    \n",
    "  }\n",
    "  \n",
    "  object InMemoryTicketRepository extends InMemoryTicketRepository\n",
    "}"
   ]
  },
  {
   "cell_type": "markdown",
   "metadata": {},
   "source": [
    "Inject the repo to our ticket service the functional way\n",
    "* This is another implementation of dependency injection"
   ]
  },
  {
   "cell_type": "code",
   "execution_count": 10,
   "metadata": {
    "collapsed": false
   },
   "outputs": [
    {
     "data": {
      "text/plain": [
       "defined \u001b[32mobject \u001b[36mservices\u001b[0m\n",
       "\u001b[36mmemoryRepo\u001b[0m: \u001b[32mrepos\u001b[0m.\u001b[32mInMemoryTicketRepository\u001b[0m.type = cmd4$$user$repos$InMemoryTicketRepository$@679cfd4f\n",
       "\u001b[36mTS\u001b[0m: \u001b[32m$user\u001b[0m.\u001b[32mservices\u001b[0m.\u001b[32mTicketService\u001b[0m.type = cmd9$$user$services$TicketService$@48e44b7b\n",
       "\u001b[36mres9_3\u001b[0m: \u001b[32mSuccess\u001b[0m[\u001b[32mTicket\u001b[0m] = Success(Ticket(t1,Open,First ticket,List()))\n",
       "\u001b[36mres9_4\u001b[0m: \u001b[32mcollection\u001b[0m.\u001b[32mmutable\u001b[0m.\u001b[32mMap\u001b[0m[\u001b[32mString\u001b[0m, \u001b[32mTicket\u001b[0m] = \u001b[33mMap\u001b[0m()"
      ]
     },
     "metadata": {},
     "output_type": "display_data"
    }
   ],
   "source": [
    "//Let's define a service that describes our algebra\n",
    "object services {\n",
    "  import repos.TicketRepository\n",
    "  \n",
    "  trait TicketService[Ticket, TicketStatus, Process] {\n",
    "    def open(no: String, desc: String, process: Process): TicketRepository => Try[Ticket]\n",
    "//     def changeStatus(no: String, status: TicketStatus): TicketRepository => Try[Ticket] \n",
    "//     def changeDescription(no: String, descr: String): TicketRepository => Try[Ticket] \n",
    "//     def close(no: String): Try[Ticket]\n",
    "  }\n",
    "  \n",
    "  //Concrete implementation\n",
    "  object TicketService extends TicketService[Ticket, TicketStatus, Process] {\n",
    "  \n",
    "    def open(no: String, desc: String, process: Process) = { (r: TicketRepository) =>\n",
    "      Success(Ticket(no, Open, desc, process))\n",
    "      \n",
    "    } \n",
    "      \n",
    "      \n",
    "//     def changeStatus(no: String, status: TicketStatus): Ticket = ???\n",
    "   \n",
    "//     def changeDescription(no: String, descr: String): Ticket = ???\n",
    "   \n",
    "//     def close(no: String): Ticket = ???\n",
    "  }\n",
    "  \n",
    "}\n",
    "\n",
    "\n",
    "val memoryRepo =  repos.InMemoryTicketRepository \n",
    "\n",
    "val TS = services.TicketService\n",
    "TS.open(\"t1\", \"First ticket\", model.emptyProcess)(memoryRepo)\n",
    "\n",
    "\n",
    "\n",
    "\n",
    "memoryRepo.repo\n",
    "\n"
   ]
  },
  {
   "cell_type": "code",
   "execution_count": null,
   "metadata": {
    "collapsed": true
   },
   "outputs": [],
   "source": []
  }
 ],
 "metadata": {
  "kernelspec": {
   "display_name": "Scala 2.11",
   "language": "scala211",
   "name": "scala211"
  },
  "language_info": {
   "codemirror_mode": "text/x-scala",
   "file_extension": ".scala",
   "mimetype": "text/x-scala",
   "name": "scala211",
   "pygments_lexer": "scala",
   "version": "2.11.7"
  }
 },
 "nbformat": 4,
 "nbformat_minor": 1
}
