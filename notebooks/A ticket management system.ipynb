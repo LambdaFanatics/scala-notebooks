{
 "cells": [
  {
   "cell_type": "code",
   "execution_count": null,
   "metadata": {
    "collapsed": false
   },
   "outputs": [],
   "source": [
    "//Model as an ADT\n",
    "\n",
    "// package model \n",
    "case class ProcessComponent(desc: String)\n",
    "\n",
    "type Comments = Seq[String]\n",
    "val emptyComments = Seq.empty[String]\n",
    "\n",
    "\n",
    "sealed trait TicketStatus\n",
    "case object Open extends TicketStatus\n",
    "case object InProgress extends TicketStatus\n",
    "case object Closed extends TicketStatus\n",
    "\n",
    "//Aggregate root\n",
    "case class Ticket(no:String, status: TicketStatus, title: String, comments: Comments)"
   ]
  },
  {
   "cell_type": "markdown",
   "metadata": {},
   "source": [
    "Simple domain service"
   ]
  },
  {
   "cell_type": "code",
   "execution_count": null,
   "metadata": {
    "collapsed": false
   },
   "outputs": [],
   "source": [
    "// Service attempt #1\n",
    "\n",
    "//Let's define a service that describes our algebra\n",
    "\n",
    "trait TicketService {\n",
    "  \n",
    "  //Open a ticket\n",
    "  def open(no: String, title: String): Ticket\n",
    "  \n",
    "  //Make a ticket in progress\n",
    "  def start(no: String): Ticket \n",
    "  \n",
    "  //Change the title\n",
    "  def changeTitle(no: String, title: String): Ticket \n",
    "  \n",
    "  //Close ticket\n",
    "  def close(no: String): Ticket\n",
    "}\n",
    "\n",
    "//What we can do with this algebra?\n",
    "\n",
    "//Open a ticket with no = \"t1\", title =\"...\" \n",
    "// start this ticket\n",
    "// update this ticket title = \"....\"\n",
    "// close this ticket \n",
    "def program1(ts: TicketService): Ticket = {\n",
    "  val t =  ts.open(\"t1\", \"...\") //Every step returns an immutable ticket with the changes\n",
    "  val t1 = ts.start(t.no)\n",
    "  val t2 = ts.changeTitle(t1.no, \"Ticket updated\")\n",
    "  val t3 = ts.close(t2.no)\n",
    "  t3\n",
    "}\n",
    "\n",
    "program1 _"
   ]
  },
  {
   "cell_type": "code",
   "execution_count": null,
   "metadata": {
    "collapsed": false
   },
   "outputs": [],
   "source": [
    "//Composition basics\n",
    "\n",
    "//Methods\n",
    "def f(n: String) = n + n\n",
    "def g(n: String) = n.length\n",
    "\n",
    "//Functions\n",
    "// (String => String)\n",
    "val ff = (n: String) => n + n\n",
    "\n",
    "// (String => Int)\n",
    "val gf = (n: String) => n.length\n",
    "\n",
    "//Composition\n",
    "val gof = (g _).compose(f _)\n",
    "\n",
    "val gof1 = (f _).andThen(g _)\n",
    "\n",
    "//Composition with lambda\n",
    "val folambda = (g _).compose((x:String) => x + x + x)\n",
    "\n",
    "f(\"1\")\n",
    "gof(\"1\")\n",
    "folambda(\"foo\")\n"
   ]
  },
  {
   "cell_type": "code",
   "execution_count": null,
   "metadata": {
    "collapsed": false
   },
   "outputs": [],
   "source": [
    "//Service attempt #1.1\n",
    "//Given that lets re-write our program\n",
    "\n",
    "def program1(ts: TicketService): Ticket = {\n",
    "  val chain = (ts.open((_:String), \"...\"))\n",
    "      .andThen(t => ts.start(t.no))\n",
    "      .andThen(t => ts.changeTitle(t.no, \"....\"))\n",
    "      .andThen(t => ts.close(t.no))\n",
    "   chain(\"t1\")\n",
    "}\n",
    "\n",
    "program1 _"
   ]
  },
  {
   "cell_type": "markdown",
   "metadata": {},
   "source": [
    "Define a domain repository \n",
    "* Repository may fail\n",
    "* Tickets may not exist\n",
    "\n",
    "Let's ignore the side effects\n"
   ]
  },
  {
   "cell_type": "code",
   "execution_count": null,
   "metadata": {
    "collapsed": false
   },
   "outputs": [],
   "source": [
    "// Let's ignore the side effects for now\n",
    "\n",
    "trait TicketRepository {\n",
    "  def query(): Ticket\n",
    "  def store(t: Ticket): Ticket  \n",
    "}\n"
   ]
  },
  {
   "cell_type": "markdown",
   "metadata": {},
   "source": [
    "Using the `TicketRepository` in the `TicketService`."
   ]
  },
  {
   "cell_type": "code",
   "execution_count": null,
   "metadata": {
    "collapsed": false
   },
   "outputs": [],
   "source": [
    "//Service attempt #2\n",
    "\n",
    "trait TicketService {\n",
    "  \n",
    "  //Open a ticket\n",
    "  def open(no: String, title: String): TicketRepository =>  Ticket\n",
    "  \n",
    "  //Make a ticket in progress\n",
    "  def start(no: String): TicketRepository => Ticket \n",
    "  \n",
    "  //Change the title\n",
    "  def changeTitle(no: String, title: String): TicketRepository => Ticket \n",
    "  \n",
    "  //Close ticket\n",
    "  def close(no: String): TicketRepository => Ticket\n",
    "}\n",
    "\n",
    "//Now our programs have a ticket service and repo\n",
    "// Let's try to compose them\n",
    "\n",
    "def program2(s: TicketService, r: TicketRepository) = {\n",
    " val chain = (s.open(_:String, \"...\")(r))\n",
    "    .andThen(t => s.start(t.no)(r))\n",
    "    .andThen(t => s.changeTitle(t.no,\"New Title\")(r))\n",
    "    .andThen(t => s.close(t.no)(r))\n",
    "  chain(\"t1\")\n",
    "}\n",
    "\n",
    "program2 _"
   ]
  },
  {
   "cell_type": "markdown",
   "metadata": {},
   "source": [
    "We use the the repository variable in each composition because each method returns a `(R => T)`  (e.g. `TicketRepository` => `Ticket`)\n",
    "\n",
    "Generalizing program3 a reusable function composition:\n",
    "\n",
    "We need a composition function with signature:\n",
    "\n",
    "`<functionName???>(a,f) :: (R => A) => (A => (R => B)) => (R => B)`\n",
    "\n",
    "If we name the type (of function) `(R => A)` to `RD[R,A]`\n",
    "\n",
    "we need something of type: \n",
    "\n",
    "`<functionName???>(a,f) :: RD[R,A] => (A => RD[R,B]) => RD[R,B]`\n",
    "\n",
    "if we fix the first parameter of `R` type we actually need something of type:\n",
    "\n",
    "`RD[A] => (A => RD[B]) => RD[B]`\n",
    "\n",
    "which resembles the function __`flatMap`__ of `List[A]` but we have now a `RD[A]`\n",
    "\n",
    "> So we can implemenent a parametric construct `RD[R,T]` which wraps functions of type `R => A` and \n",
    "> supports a `flatMap` operation. The implementation of this `flatMap` composes correctly our enchanced function types."
   ]
  },
  {
   "cell_type": "code",
   "execution_count": null,
   "metadata": {
    "collapsed": false
   },
   "outputs": [],
   "source": [
    "//A custom Reader implementation (Reader = RD) in Scala\n",
    "\n",
    "//Wrapper of functions R => A\n",
    "case class Reader[R, A](run: R => A) { /* R => A = Function1[R,A] in scala*/\n",
    "\n",
    "    //Additional map operator \n",
    "    def map[B] (f: A => B): Reader[R,B] = {\n",
    "      Reader(r => f(run(r)))\n",
    "    }\n",
    "    \n",
    "    def flatMap[B] (f: A => Reader[R,B]): Reader[R,B] = {\n",
    "      Reader(r => f(run(r)).run(r)) // This is just complex function composition boilerplate...\n",
    "    }\n",
    "}\n"
   ]
  },
  {
   "cell_type": "markdown",
   "metadata": {},
   "source": [
    "Trusting that this implementation is correct we can rewrite our example."
   ]
  },
  {
   "cell_type": "code",
   "execution_count": null,
   "metadata": {
    "collapsed": false
   },
   "outputs": [],
   "source": [
    "//Function attempt #3\n",
    "trait TicketService {\n",
    "  \n",
    "  //Open a ticket\n",
    "  def open(no: String, title: String): Reader[TicketRepository, Ticket]\n",
    "  \n",
    "  //Make a ticket in progress\n",
    "  def start(no: String): Reader[TicketRepository, Ticket]\n",
    "  \n",
    "  //Change the title\n",
    "  def changeTitle(no: String, title: String): Reader[TicketRepository, Ticket] \n",
    "  \n",
    "  //Close ticket\n",
    "  def close(no: String): Reader[TicketRepository,Ticket]\n",
    "}\n",
    "\n",
    "//Now our programs have a ticket service and repo\n",
    "// Let's try to compose them\n",
    "\n",
    "def program3(s: TicketService, r: TicketRepository) = {\n",
    "\n",
    "// Program 2: for reference and comparison\n",
    "//  val chain = (s.open(_:String, \"...\")(r))\n",
    "//     .andThen(t => s.start(t.no)(r))\n",
    "//     .andThen(t => s.changeTitle(t.no,\"....\")(r))\n",
    "//     .andThen(t => s.close(t.no)(r))\n",
    "//    chain(\"t1\")\n",
    "\n",
    "\n",
    "  val chain = { (no:String) =>\n",
    "      s.open(no, \"...\")\n",
    "        .flatMap(t => s.start(t.no))\n",
    "        .flatMap(t => s.changeTitle(t.no, \"....\"))\n",
    "        .flatMap(t => s.close(t.no))}\n",
    "  \n",
    "  chain(\"t1\").run(r) //Only one usage of r\n",
    "}\n",
    "\n",
    "program3 _"
   ]
  },
  {
   "cell_type": "code",
   "execution_count": null,
   "metadata": {
    "collapsed": false
   },
   "outputs": [],
   "source": [
    "import scala.util.{Try, Success, Failure}\n",
    "import collection.mutable.{ Map => MMap }\n",
    "\n",
    "//package repos \n",
    "trait TicketRepository {\n",
    "  def query(): Try[Seq[Ticket]]\n",
    "  def query(no:String): Try[Option[Ticket]]\n",
    "  def store(t: Ticket): Try[Ticket]\n",
    "}\n",
    "\n",
    "\n",
    "//package repos.interpreters\n",
    "trait InMemoryTicketRepository extends TicketRepository {\n",
    "  lazy val repo = MMap.empty[String, Ticket]\n",
    "  def query(): Try[Seq[Ticket]] = Success(repo.values.toSeq)\n",
    "\n",
    "  def query(no: String): Try[Option[Ticket]] = Success(repo.get(no))\n",
    "\n",
    "  def store(a: Ticket): Try[Ticket] = {\n",
    "    val r = repo += ((a.no, a))\n",
    "    Success(a)\n",
    "  }\n",
    "\n",
    "}\n",
    "  \n",
    "object InMemoryTicketRepository extends InMemoryTicketRepository"
   ]
  },
  {
   "cell_type": "markdown",
   "metadata": {},
   "source": [
    "Inject the repo to our ticket service the functional way\n",
    "* This is another implementation of dependency injection"
   ]
  },
  {
   "cell_type": "code",
   "execution_count": null,
   "metadata": {
    "collapsed": false
   },
   "outputs": [],
   "source": [
    "// package services   \n",
    "trait TicketService[Ticket, TicketStatus, Process] {\n",
    "  def open(no: String, desc: String, process: Process): TicketRepository => Try[Ticket]\n",
    "//     def changeStatus(no: String, status: TicketStatus): TicketRepository => Try[Ticket] \n",
    "//     def changeDescription(no: String, descr: String): TicketRepository => Try[Ticket] \n",
    "//     def close(no: String): Try[Ticket]\n",
    "}\n",
    "  \n",
    "//package services.interpreters\n",
    "object TicketService extends TicketService[Ticket, TicketStatus, Process] {\n",
    "\n",
    "  def open(no: String, desc: String, process: Process) =  (r: TicketRepository) =>\n",
    "      r.query(no) match {\n",
    "        case Success(Some(t)) => Failure(new Exception(s\"Ticket with $no already exists\"))\n",
    "        case Success(None) => \n",
    "          //validations\n",
    "          if (no.isEmpty) Failure(new Exception(s\"Ticket $no should not be empty\"))\n",
    "          else if (desc.isEmpty)\n",
    "          else r.store(Ticket(no, Open, desc, process)) \n",
    "        case Failure(ex) => Failure(new Exception(s\"Failed to open ticket $no: $desc\", ex))\n",
    "      }\n",
    "      \n",
    "      def changeStatus(no: String, status: Ticket) = (r: TicketRepository) => \n",
    "        r.query(no) match {\n",
    "        \n",
    "        }\n",
    "  \n",
    "}\n",
    "\n",
    "      \n",
    "//     def changeStatus(no: String, status: TicketStatus): Ticket = ???\n",
    "   \n",
    "//     def changeDescription(no: String, descr: String): Ticket = ???\n",
    "   \n",
    "//     def close(no: String): Ticket = ???\n",
    "\n",
    "  \n",
    "// }\n",
    "\n",
    "\n",
    "val memoryRepo =  InMemoryTicketRepository \n",
    "\n",
    "val TS = TicketService\n",
    "TS.open(\"t1\", \"First ticket\",emptyProcess)(memoryRepo)\n",
    "TS.open(\"t2\", \"Second ticket\",emptyProcess)(memoryRepo)\n",
    "\n",
    "\n",
    "\n",
    "\n",
    "memoryRepo.repo\n",
    "\n"
   ]
  },
  {
   "cell_type": "code",
   "execution_count": null,
   "metadata": {
    "collapsed": true
   },
   "outputs": [],
   "source": []
  }
 ],
 "metadata": {
  "kernelspec": {
   "display_name": "Scala 2.11",
   "language": "scala211",
   "name": "scala211"
  },
  "language_info": {
   "codemirror_mode": "text/x-scala",
   "file_extension": ".scala",
   "mimetype": "text/x-scala",
   "name": "scala211",
   "pygments_lexer": "scala",
   "version": "2.11.7"
  }
 },
 "nbformat": 4,
 "nbformat_minor": 1
}
