{
 "cells": [
  {
   "cell_type": "markdown",
   "metadata": {},
   "source": [
    "## Scala a functional approch 3 :  Ticket management system\n",
    "\n",
    "#### Abstract\n",
    "\n",
    "This document is a efford to introduce the strengths and benefits of functional programming in scala.\n",
    "\n",
    "We do not claim intellectual property of all the material presented.\n",
    "We specifically refer to the original resources whenever is needed.\n",
    "\n",
    "The presentation path of the concepts is still under consideration and may be changed in future reviews."
   ]
  },
  {
   "cell_type": "markdown",
   "metadata": {},
   "source": [
    "### Outline\n"
   ]
  },
  {
   "cell_type": "markdown",
   "metadata": {},
   "source": [
    "Example heavily influenced by [Functional and Reactive Domain Modeling](https://www.manning.com/books/functional-and-reactive-domain-modeling)"
   ]
  },
  {
   "cell_type": "markdown",
   "metadata": {},
   "source": [
    "### Ticket domain algebra"
   ]
  },
  {
   "cell_type": "code",
   "execution_count": 1,
   "metadata": {
    "collapsed": false
   },
   "outputs": [
    {
     "data": {
      "text/plain": [
       "defined \u001b[32mtype \u001b[36mComments\u001b[0m\n",
       "\u001b[36memptyComments\u001b[0m: \u001b[32mSeq\u001b[0m[\u001b[32mString\u001b[0m] = \u001b[33mList\u001b[0m()\n",
       "defined \u001b[32mtrait \u001b[36mTicketStatus\u001b[0m\n",
       "defined \u001b[32mobject \u001b[36mOpen\u001b[0m\n",
       "defined \u001b[32mobject \u001b[36mInProgress\u001b[0m\n",
       "defined \u001b[32mobject \u001b[36mClosed\u001b[0m\n",
       "defined \u001b[32mclass \u001b[36mTicket\u001b[0m"
      ]
     },
     "metadata": {},
     "output_type": "display_data"
    }
   ],
   "source": [
    "//Model as an ADT\n",
    "\n",
    "\n",
    "type Comments = Seq[String]\n",
    "val emptyComments = Seq.empty[String]\n",
    "\n",
    "\n",
    "sealed trait TicketStatus\n",
    "case object Open extends TicketStatus\n",
    "case object InProgress extends TicketStatus\n",
    "case object Closed extends TicketStatus\n",
    "\n",
    "//Aggregate root\n",
    "case class Ticket(no:String, status: TicketStatus, title: String, comments: Comments)"
   ]
  },
  {
   "cell_type": "markdown",
   "metadata": {},
   "source": [
    "A simple domain service"
   ]
  },
  {
   "cell_type": "code",
   "execution_count": 28,
   "metadata": {
    "collapsed": false
   },
   "outputs": [
    {
     "data": {
      "text/plain": [
       "defined \u001b[32mtrait \u001b[36mTicketService\u001b[0m\n",
       "defined \u001b[32mfunction \u001b[36mprogram1\u001b[0m\n",
       "\u001b[36mres27_2\u001b[0m: \u001b[32m$user\u001b[0m.\u001b[32mTicketService\u001b[0m => \u001b[32mTicket\u001b[0m = <function1>"
      ]
     },
     "metadata": {},
     "output_type": "display_data"
    }
   ],
   "source": [
    "// Service attempt #1\n",
    "\n",
    "//Let's define a service that describes our algebra\n",
    "\n",
    "trait TicketService {\n",
    "  \n",
    "  //Open a ticket\n",
    "  def open(no: String, title: String): Ticket\n",
    "  \n",
    "  //Make a ticket in progress\n",
    "  def start(no: String): Ticket \n",
    "  \n",
    "  //Change the title\n",
    "  def changeTitle(no: String, title: String): Ticket \n",
    "  \n",
    "  //Close ticket\n",
    "  def close(no: String): Ticket\n",
    "}\n",
    "\n",
    "//What we can do with this algebra?\n",
    "\n",
    "//Open a ticket with no = \"t1\", title =\"...\" \n",
    "// start this ticket\n",
    "// update this ticket title = \"....\"\n",
    "// close this ticket \n",
    "def program1(ts: TicketService): Ticket = {\n",
    "  val t =  ts.open(\"t1\", \"...\") //Every step returns an immutable ticket with the changes\n",
    "  val t1 = ts.start(t.no)\n",
    "  val t2 = ts.changeTitle(t1.no, \"Ticket updated\")\n",
    "  val t3 = ts.close(t2.no)\n",
    "  t3\n",
    "}\n",
    "\n",
    "program1 _"
   ]
  },
  {
   "cell_type": "code",
   "execution_count": null,
   "metadata": {
    "collapsed": false
   },
   "outputs": [],
   "source": [
    "//Composition basics\n",
    "\n",
    "//Methods\n",
    "def f(n: String) = n + n\n",
    "def g(n: String) = n.length\n",
    "\n",
    "//Functions\n",
    "// (String => String)\n",
    "val ff = (n: String) => n + n\n",
    "\n",
    "// (String => Int)\n",
    "val gf = (n: String) => n.length\n",
    "\n",
    "//Composition\n",
    "val gof = (g _).compose(f _)\n",
    "\n",
    "val gof1 = (f _).andThen(g _)\n",
    "\n",
    "//Composition with lambda\n",
    "val folambda = (g _).compose((x:String) => x + x + x)\n",
    "\n",
    "f(\"1\")\n",
    "gof(\"1\")\n",
    "folambda(\"foo\")\n"
   ]
  },
  {
   "cell_type": "code",
   "execution_count": null,
   "metadata": {
    "collapsed": false
   },
   "outputs": [],
   "source": [
    "//Service attempt #1.1\n",
    "//Given that lets re-write our program\n",
    "\n",
    "def program1(ts: TicketService): Ticket = {\n",
    "  val chain = (ts.open((_:String), \"...\"))\n",
    "      .andThen(t => ts.start(t.no))\n",
    "      .andThen(t => ts.changeTitle(t.no, \"....\"))\n",
    "      .andThen(t => ts.close(t.no))\n",
    "   chain(\"t1\")\n",
    "}\n",
    "\n",
    "program1 _"
   ]
  },
  {
   "cell_type": "markdown",
   "metadata": {},
   "source": [
    "#### Define a ticket repository interface"
   ]
  },
  {
   "cell_type": "code",
   "execution_count": null,
   "metadata": {
    "collapsed": false
   },
   "outputs": [],
   "source": [
    "trait TicketRepository {\n",
    "  def query(no: String): Ticket\n",
    "  def store(t: Ticket): Ticket  \n",
    "}"
   ]
  },
  {
   "cell_type": "markdown",
   "metadata": {},
   "source": [
    "Using the `TicketRepository` in the `TicketService`."
   ]
  },
  {
   "cell_type": "code",
   "execution_count": null,
   "metadata": {
    "collapsed": false
   },
   "outputs": [],
   "source": [
    "//Service attempt #2\n",
    "\n",
    "trait TicketService {\n",
    "  \n",
    "  //Open a ticket\n",
    "  def open(no: String, title: String): TicketRepository =>  Ticket\n",
    "  \n",
    "  //Make a ticket in progress\n",
    "  def start(no: String): TicketRepository => Ticket \n",
    "  \n",
    "  //Change the title\n",
    "  def changeTitle(no: String, title: String): TicketRepository => Ticket \n",
    "  \n",
    "  //Close ticket\n",
    "  def close(no: String): TicketRepository => Ticket\n",
    "}\n",
    "\n",
    "//Now our programs have a ticket service and repo\n",
    "// Let's try to compose them\n",
    "\n",
    "def program2(s: TicketService, r: TicketRepository) = {\n",
    " val chain = (s.open(_:String, \"...\")(r))\n",
    "    .andThen(t => s.start(t.no)(r))\n",
    "    .andThen(t => s.changeTitle(t.no,\"New Title\")(r))\n",
    "    .andThen(t => s.close(t.no)(r))\n",
    "  chain(\"t1\")\n",
    "}\n",
    "\n",
    "program2 _"
   ]
  },
  {
   "cell_type": "markdown",
   "metadata": {},
   "source": [
    "We use the the repository variable in each composition because each method returns a `(R => T)`  (e.g. `TicketRepository` => `Ticket`)\n",
    "\n",
    "Generalizing program3 a reusable function composition:\n",
    "\n",
    "We need a composition function with signature:\n",
    "\n",
    "`<functionName???>(a,f) :: (R => A) => (A => (R => B)) => (R => B)`\n",
    "\n",
    "If we name the type (of function) `(R => A)` to `RD[R,A]`\n",
    "\n",
    "we need something of type: \n",
    "\n",
    "`<functionName???>(a,f) :: RD[R,A] => (A => RD[R,B]) => RD[R,B]`\n",
    "\n",
    "if we fix the first parameter of `R` type we actually need something of type:\n",
    "\n",
    "`RD[A] => (A => RD[B]) => RD[B]`\n",
    "\n",
    "which resembles the function __`flatMap`__ of `List[A]` but we have now a `RD[A]`\n",
    "\n",
    "> So we can implemenent a parametric construct `RD[R,T]` which wraps functions of type `R => A` and \n",
    "> supports a `flatMap` operation. The implementation of this `flatMap` composes correctly our enchanced function types."
   ]
  },
  {
   "cell_type": "code",
   "execution_count": null,
   "metadata": {
    "collapsed": false
   },
   "outputs": [],
   "source": [
    "//A custom Reader implementation (Reader = RD) in Scala\n",
    "\n",
    "//Wrapper of functions R => A\n",
    "case class Reader[R, A](run: R => A) { /* R => A = Function1[R,A] in scala*/\n",
    "\n",
    "    //Additional map operator \n",
    "    def map[B] (f: A => B): Reader[R,B] = {\n",
    "      Reader(r => f(run(r)))\n",
    "    }\n",
    "    \n",
    "    def flatMap[B] (f: A => Reader[R,B]): Reader[R,B] = {\n",
    "      Reader(r => f(run(r)).run(r)) // This is just complex function composition boilerplate...\n",
    "    }\n",
    "}\n"
   ]
  },
  {
   "cell_type": "markdown",
   "metadata": {},
   "source": [
    "Trusting that this implementation is correct we can rewrite our example."
   ]
  },
  {
   "cell_type": "code",
   "execution_count": null,
   "metadata": {
    "collapsed": false
   },
   "outputs": [],
   "source": [
    "//Service attempt #3\n",
    "trait TicketService {\n",
    "  \n",
    "  //Open a ticket\n",
    "  def open(no: String, title: String): Reader[TicketRepository, Ticket]\n",
    "  \n",
    "  //Make a ticket in progress\n",
    "  def start(no: String): Reader[TicketRepository, Ticket]\n",
    "  \n",
    "  //Change the title\n",
    "  def changeTitle(no: String, title: String): Reader[TicketRepository, Ticket] \n",
    "  \n",
    "  //Close ticket\n",
    "  def close(no: String): Reader[TicketRepository,Ticket]\n",
    "}\n",
    "\n",
    "//Now our programs have a ticket service and repo\n",
    "//Let's try to compose them\n",
    "\n",
    "def program3(s: TicketService, r: TicketRepository) = {\n",
    "\n",
    "// Program 2: for reference and comparison\n",
    "//  val chain = (s.open(_:String, \"...\")(r))\n",
    "//     .andThen(t => s.start(t.no)(r))\n",
    "//     .andThen(t => s.changeTitle(t.no,\"....\")(r))\n",
    "//     .andThen(t => s.close(t.no)(r))\n",
    "//    chain(\"t1\")\n",
    "\n",
    "\n",
    "  val chain = { (no:String) =>\n",
    "      s.open(no, \"...\")\n",
    "        .flatMap(t => s.start(t.no))\n",
    "        .flatMap(t => s.changeTitle(t.no, \"....\"))\n",
    "        .flatMap(t => s.close(t.no))}\n",
    "  \n",
    "  chain(\"t1\").run(r) //Only one usage of r\n",
    "}\n",
    "\n",
    "program3 _"
   ]
  },
  {
   "cell_type": "markdown",
   "metadata": {},
   "source": [
    "Scala has a special syntactic notation for structures that support `map` and `flatMap`\n",
    "\n"
   ]
  },
  {
   "cell_type": "code",
   "execution_count": null,
   "metadata": {
    "collapsed": false
   },
   "outputs": [],
   "source": [
    "// Service attempt 3.1\n",
    "def program31(s: TicketService, r: TicketRepository) = { \n",
    "  def chain(no: String): Reader[TicketRepository, Ticket] =\n",
    "    for {\n",
    "      t <- s.open(no, \"...\")\n",
    "      t <- s.start(t.no)\n",
    "      t <- s.changeTitle(t.no, \"....\")\n",
    "      t <- s.close(t.no)\n",
    "    } yield t\n",
    "    \n",
    "  chain(\"t1\").run(r)  \n",
    "}\n",
    "\n",
    "program31 _\n",
    "\n",
    "// Or with a funky name :P \n",
    "\n",
    "def openStartChangeTitleAndCloseOperation(no:String, s:TicketService): Reader[TicketRepository, Ticket] = \n",
    "  for {\n",
    "      t <- s.open(no, \"...\")\n",
    "      t <- s.start(t.no)\n",
    "      t <- s.changeTitle(t.no, \"....\")\n",
    "      t <- s.close(t.no)\n",
    "    } yield t\n",
    "\n",
    "openStartChangeTitleAndCloseOperation _\n",
    "\n",
    "//invoke on actual code like\n",
    "// openStartChangeTitleAndCloseOperation(\"t1\",service).run(repo)  where service,repo concrete implementations..."
   ]
  },
  {
   "cell_type": "markdown",
   "metadata": {},
   "source": [
    "#### Intoducing [Cats](https://typelevel.org/cats/)\n",
    "Let's not reinvent the wheel and use a scala functional library"
   ]
  },
  {
   "cell_type": "code",
   "execution_count": null,
   "metadata": {
    "collapsed": false
   },
   "outputs": [],
   "source": [
    "classpath.add(\"org.typelevel\" %% \"cats-core\" % \"1.0.0-MF\")"
   ]
  },
  {
   "cell_type": "code",
   "execution_count": null,
   "metadata": {
    "collapsed": false
   },
   "outputs": [],
   "source": [
    "// Service attempt #3.2 \n",
    "// Using Cats\n",
    "\n",
    "import cats.data.Reader\n",
    "\n",
    "trait TicketService {\n",
    "  def open(no: String, title: String): Reader[TicketRepository, Ticket]\n",
    "  def start(no: String): Reader[TicketRepository, Ticket]\n",
    "  def changeTitle(no: String, title: String): Reader[TicketRepository, Ticket] \n",
    "  def close(no: String): Reader[TicketRepository,Ticket]\n",
    "}\n",
    "\n",
    "\n",
    "def program32(no:String, s:TicketService): Reader[TicketRepository, Ticket] = \n",
    "  for {\n",
    "      t <- s.open(no, \"...\")\n",
    "      t <- s.start(t.no)\n",
    "      t <- s.changeTitle(t.no, \"....\")\n",
    "      t <- s.close(t.no)\n",
    "    } yield t\n",
    "\n",
    "program32 _\n"
   ]
  },
  {
   "cell_type": "markdown",
   "metadata": {},
   "source": [
    "#### Revisiting the repository \n",
    "\n",
    "* A real repository may fail (for technical reasons)\n",
    "* Tickets may not exist (in the storage)"
   ]
  },
  {
   "cell_type": "code",
   "execution_count": null,
   "metadata": {
    "collapsed": false
   },
   "outputs": [],
   "source": [
    "import scala.util.Try\n",
    "\n",
    "// A more realistic repository\n",
    "trait TicketRepository {\n",
    "  def query(no: String): Try[Option[Ticket]]\n",
    "  def store(t: Ticket): Try[Ticket]  \n",
    "}"
   ]
  },
  {
   "cell_type": "markdown",
   "metadata": {},
   "source": [
    "#### Revisiting the service\n",
    "Our `Reader[TicketRepository, Ticket]` responces are falling short.\n"
   ]
  },
  {
   "cell_type": "code",
   "execution_count": null,
   "metadata": {
    "collapsed": false
   },
   "outputs": [],
   "source": [
    "// Service attempt #4\n",
    "\n",
    "import scala.util.Try\n",
    "import cats.data.Kleisli\n",
    "import cats.implicits._\n",
    "\n",
    "trait TicketService {\n",
    "  def open(no: String, title: String): Kleisli[Try, TicketRepository, Ticket]\n",
    "  def start(no: String): Kleisli[Try, TicketRepository, Ticket]\n",
    "  def changeTitle(no: String, title: String): Kleisli[Try, TicketRepository, Ticket] \n",
    "  def close(no: String): Kleisli[Try, TicketRepository,Ticket]\n",
    "}\n",
    "\n",
    "def program4(no:String, s:TicketService): Kleisli[Try, TicketRepository, Ticket] = \n",
    "  for {\n",
    "      t <- s.open(no, \"...\")\n",
    "      t <- s.start(t.no)\n",
    "      t <- s.changeTitle(t.no, \"....\")\n",
    "      t <- s.close(t.no)\n",
    "    } yield t\n",
    "\n",
    "program4 _\n"
   ]
  },
  {
   "cell_type": "markdown",
   "metadata": {},
   "source": [
    "Kleisli is an implementation detail we need something more user friendly name with more domain related meaning."
   ]
  },
  {
   "cell_type": "code",
   "execution_count": null,
   "metadata": {
    "collapsed": false
   },
   "outputs": [],
   "source": [
    "// Service attempt #4.1\n",
    "\n",
    "import scala.util.Try\n",
    "import cats.data.Kleisli\n",
    "import cats.implicits._\n",
    "\n",
    "type ServiceResult[A] = Kleisli[Try,TicketRepository,A]\n",
    "\n",
    "trait TicketService {\n",
    "  def open(no: String, title: String): ServiceResult[Ticket]\n",
    "  def start(no: String): ServiceResult[Ticket]\n",
    "  def changeTitle(no: String, title: String): ServiceResult[Ticket]\n",
    "  def close(no: String): ServiceResult[Ticket]\n",
    "}\n",
    "\n",
    "def program4(no:String, s:TicketService): ServiceResult[Ticket] = \n",
    "  for {\n",
    "      t <- s.open(no, \"...\")\n",
    "      t <- s.start(t.no)\n",
    "      t <- s.changeTitle(t.no, \"....\")\n",
    "      t <- s.close(t.no)\n",
    "    } yield t\n",
    "\n",
    "program4 _ "
   ]
  },
  {
   "cell_type": "markdown",
   "metadata": {},
   "source": [
    "#### Domain interpreters (a.k.a concrete implementations)"
   ]
  },
  {
   "cell_type": "code",
   "execution_count": null,
   "metadata": {
    "collapsed": false
   },
   "outputs": [],
   "source": [
    "import collection.mutable.{ Map => MMap }\n",
    "\n",
    "trait InMemoryTicketRepository extends TicketRepository {\n",
    "  lazy val repo = MMap.empty[String, Ticket]\n",
    "  \n",
    "  def query(no: String): Try[Option[Ticket]] = Success(repo.get(no))\n",
    "\n",
    "  def store(a: Ticket): Try[Ticket] = {\n",
    "    val r = repo += ((a.no, a))\n",
    "    Success(a)\n",
    "  }\n",
    "}\n",
    "\n",
    "\n",
    "//This is the concrete implementation\n",
    "object InMemoryTicketRepository extends InMemoryTicketRepository"
   ]
  },
  {
   "cell_type": "markdown",
   "metadata": {},
   "source": [
    "We have also to implement a concrete type for our ticket service."
   ]
  },
  {
   "cell_type": "code",
   "execution_count": null,
   "metadata": {
    "collapsed": false
   },
   "outputs": [],
   "source": [
    "\n",
    "\n",
    "//package services.interpreters\n",
    "object TicketService extends TicketService {\n",
    "\n",
    "  def open(no: String, desc: String) = (r: TicketRepository) =>\n",
    "      r.query(no) match {\n",
    "        case Success(Some(t)) => Failure(new Exception(s\"Ticket with $no already exists\"))\n",
    "        case Success(None) => \n",
    "          //validations\n",
    "          if (no.isEmpty) Failure(new Exception(s\"Ticket $no should not be empty\"))\n",
    "          else if (desc.isEmpty)\n",
    "          else r.store(Ticket(no, Open, desc, process)) \n",
    "        case Failure(ex) => Failure(new Exception(s\"Failed to open ticket $no: $desc\", ex))\n",
    "      }\n",
    "      \n",
    "      def changeStatus(no: String, status: Ticket) = (r: TicketRepository) => \n",
    "        r.query(no) match {\n",
    "        \n",
    "        }\n",
    "  \n",
    "}\n",
    "\n",
    "      \n",
    "//     def changeStatus(no: String, status: TicketStatus): Ticket = ???\n",
    "   \n",
    "//     def changeDescription(no: String, descr: String): Ticket = ???\n",
    "   \n",
    "//     def close(no: String): Ticket = ???\n",
    "\n",
    "  \n",
    "// }\n",
    "\n",
    "\n",
    "val memoryRepo =  InMemoryTicketRepository \n",
    "\n",
    "val TS = TicketService\n",
    "TS.open(\"t1\", \"First ticket\",emptyProcess)(memoryRepo)\n",
    "TS.open(\"t2\", \"Second ticket\",emptyProcess)(memoryRepo)\n",
    "\n",
    "\n",
    "\n",
    "\n",
    "memoryRepo.repo\n",
    "\n"
   ]
  },
  {
   "cell_type": "markdown",
   "metadata": {
    "collapsed": true
   },
   "source": [
    " _Fotios Paschos, `@fpaschos`, Sep 2017_"
   ]
  }
 ],
 "metadata": {
  "kernelspec": {
   "display_name": "Scala 2.11",
   "language": "scala211",
   "name": "scala211"
  },
  "language_info": {
   "codemirror_mode": "text/x-scala",
   "file_extension": ".scala",
   "mimetype": "text/x-scala",
   "name": "scala211",
   "pygments_lexer": "scala",
   "version": "2.11.7"
  }
 },
 "nbformat": 4,
 "nbformat_minor": 1
}
