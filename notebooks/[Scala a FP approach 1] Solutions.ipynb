{
 "cells": [
  {
   "cell_type": "markdown",
   "metadata": {},
   "source": [
    "## Scala a Functional Programming approach 1: Solutions"
   ]
  },
  {
   "cell_type": "markdown",
   "metadata": {},
   "source": [
    "__Exercise 1__: Rewrite `contest` function using `andThen` composition function. \n",
    "\n",
    "_Hint use `Function1.curried` method_"
   ]
  },
  {
   "cell_type": "code",
   "execution_count": 3,
   "metadata": {
    "collapsed": false
   },
   "outputs": [
    {
     "name": "stdout",
     "output_type": "stream",
     "text": [
      "It's a draw\n"
     ]
    },
    {
     "data": {
      "text/plain": [
       "defined \u001b[32mfunction \u001b[36mcontest\u001b[0m"
      ]
     },
     "metadata": {},
     "output_type": "display_data"
    }
   ],
   "source": [
    "//This is function composition\n",
    "def contest(p1: Player, p2:Player) = (computeWinner _).curried(p1).andThen(displayWinner _)(p2)\n",
    "\n",
    "contest(Player(\"fpas\", 5), Player(\"gsmyrn\", 5)) "
   ]
  },
  {
   "cell_type": "markdown",
   "metadata": {},
   "source": [
    "__Exercise 2__: There is a new requirement to CAPITALIZE the names of the winners. \n",
    "\n",
    "a) Create a new method that `capitalize` a player name.\n",
    "\n",
    "b) Compose in a functional way the new function into the program.\n",
    "\n",
    "_Hint use option  `map` method._"
   ]
  },
  {
   "cell_type": "code",
   "execution_count": 1,
   "metadata": {
    "collapsed": false
   },
   "outputs": [
    {
     "name": "stdout",
     "output_type": "stream",
     "text": [
      "GSMYRN wins!\n"
     ]
    },
    {
     "data": {
      "text/plain": [
       "defined \u001b[32mclass \u001b[36mPlayer\u001b[0m\n",
       "defined \u001b[32mfunction \u001b[36mcomputeWinner\u001b[0m\n",
       "defined \u001b[32mfunction \u001b[36mcapitalize\u001b[0m\n",
       "defined \u001b[32mfunction \u001b[36mdisplayWinner\u001b[0m\n",
       "defined \u001b[32mfunction \u001b[36mcontest\u001b[0m"
      ]
     },
     "metadata": {},
     "output_type": "display_data"
    }
   ],
   "source": [
    "// Exercise 2\n",
    "\n",
    "case class Player(name: String, score: Int)\n",
    "\n",
    "def computeWinner(p1: Player, p2: Player): Option[Player] = {\n",
    "  if(p1.score > p2.score) Some(p1)\n",
    "  else if (p2.score > p1.score) Some(p2)\n",
    "  else None\n",
    "}\n",
    "\n",
    "def capitalize(p: Player): Player = p.copy(name = p.name.toUpperCase)\n",
    "\n",
    "def displayWinner(p: Option[Player]): Unit = p match { //Pattern match instead of 'if' construct\n",
    " case Some(p) => println(s\"${p.name} wins!\")\n",
    " case None => println(s\"It's a draw\")\n",
    "}\n",
    "\n",
    "//This is function composition\n",
    "def contest(p1: Player, p2: Player) = {\n",
    "  val winner =  computeWinner(p1,p2).map(capitalize(_))\n",
    "  displayWinner(winner)\n",
    "}\n",
    "\n",
    "//With pattern match\n",
    "// def contest(p1: Player, p2: Player) = {\n",
    "//   val winner = computeWinner(p1,p2) match {\n",
    "//     case Some(p) => Some(capitalize(p))\n",
    "//     case None => None\n",
    "//   }\n",
    "// \n",
    "//   displayWinner(winner)\n",
    "// }\n",
    "\n",
    "contest(Player(\"fpas\", 5), Player(\"gsmyrn\", 6)) "
   ]
  },
  {
   "cell_type": "markdown",
   "metadata": {},
   "source": [
    "__Exercise 3__: There is a new requirement:\n",
    "\n",
    "If the winner of a contest has a negative or zero score, then the result should be 'a draw'.\n",
    "\n",
    "Implement a method that checks the winners score.\n",
    "\n",
    "_Hint use option `flatMap` method_\n"
   ]
  },
  {
   "cell_type": "code",
   "execution_count": 2,
   "metadata": {
    "collapsed": false
   },
   "outputs": [
    {
     "name": "stdout",
     "output_type": "stream",
     "text": [
      "It's a draw\n"
     ]
    },
    {
     "data": {
      "text/plain": [
       "defined \u001b[32mclass \u001b[36mPlayer\u001b[0m\n",
       "defined \u001b[32mfunction \u001b[36mcomputeWinner\u001b[0m\n",
       "defined \u001b[32mfunction \u001b[36mcapitalize\u001b[0m\n",
       "defined \u001b[32mfunction \u001b[36mcheckScore\u001b[0m\n",
       "defined \u001b[32mfunction \u001b[36mdisplayWinner\u001b[0m\n",
       "defined \u001b[32mfunction \u001b[36mcontest\u001b[0m"
      ]
     },
     "metadata": {},
     "output_type": "display_data"
    }
   ],
   "source": [
    "// Exercise 3\n",
    "\n",
    "case class Player(name: String, score: Int)\n",
    "\n",
    "def computeWinner(p1: Player, p2: Player): Option[Player] = {\n",
    "  if(p1.score > p2.score) Some(p1)\n",
    "  else if (p2.score > p1.score) Some(p2)\n",
    "  else None\n",
    "}\n",
    "\n",
    "def capitalize(p: Player): Player = p.copy(name = p.name.toUpperCase)\n",
    "\n",
    "def checkScore(p: Player): Option[Player] = if (p.score <= 0) None else Some(p)\n",
    "\n",
    "def displayWinner(p: Option[Player]): Unit = p match { \n",
    " case Some(p) => println(s\"${p.name} wins!\")\n",
    " case None => println(s\"It's a draw\")\n",
    "}\n",
    "\n",
    "//This is function composition\n",
    "def contest(p1: Player, p2: Player) = {\n",
    "  val winner =  computeWinner(p1,p2).map(capitalize(_))\n",
    "  displayWinner(winner.flatMap(w => checkScore(w)))\n",
    "}\n",
    "\n",
    "contest(Player(\"fpas\", 0), Player(\"gsmyrn\",-15)) "
   ]
  }
 ],
 "metadata": {
  "kernelspec": {
   "display_name": "Scala 2.11",
   "language": "scala211",
   "name": "scala211"
  },
  "language_info": {
   "codemirror_mode": "text/x-scala",
   "file_extension": ".scala",
   "mimetype": "text/x-scala",
   "name": "scala211",
   "pygments_lexer": "scala",
   "version": "2.11.7"
  }
 },
 "nbformat": 4,
 "nbformat_minor": 1
}
